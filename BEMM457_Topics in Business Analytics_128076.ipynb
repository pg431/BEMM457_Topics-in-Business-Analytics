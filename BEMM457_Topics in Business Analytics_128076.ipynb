{
 "cells": [
  {
   "cell_type": "code",
   "execution_count": 1,
   "metadata": {
    "_cell_guid": "b1076dfc-b9ad-4769-8c92-a6c4dae69d19",
    "_uuid": "8f2839f25d086af736a60e9eeb907d3b93b6e0e5",
    "execution": {
     "iopub.execute_input": "2022-07-19T05:43:55.294317Z",
     "iopub.status.busy": "2022-07-19T05:43:55.293713Z",
     "iopub.status.idle": "2022-07-19T05:43:55.308811Z",
     "shell.execute_reply": "2022-07-19T05:43:55.307378Z",
     "shell.execute_reply.started": "2022-07-19T05:43:55.294274Z"
    }
   },
   "outputs": [],
   "source": [
    "# This Python 3 environment comes with many helpful analytics libraries installed\n",
    "# It is defined by the kaggle/python Docker image: https://github.com/kaggle/docker-python\n",
    "# For example, here's several helpful packages to load\n",
    "\n",
    "import numpy as np # linear algebra\n",
    "import pandas as pd # data processing, CSV file I/O (e.g. pd.read_csv)\n",
    "\n",
    "# Input data files are available in the read-only \"../input/\" directory\n",
    "# For example, running this (by clicking run or pressing Shift+Enter) will list all files under the input directory\n",
    "\n",
    "import os\n",
    "for dirname, _, filenames in os.walk('/kaggle/input'):\n",
    "    for filename in filenames:\n",
    "        print(os.path.join(dirname, filename))\n",
    "\n",
    "# You can write up to 20GB to the current directory (/kaggle/working/) that gets preserved as output when you create a version using \"Save & Run All\" \n",
    "# You can also write temporary files to /kaggle/temp/, but they won't be saved outside of the current session"
   ]
  },
  {
   "cell_type": "code",
   "execution_count": 5,
   "metadata": {
    "execution": {
     "iopub.execute_input": "2022-07-19T05:43:55.578101Z",
     "iopub.status.busy": "2022-07-19T05:43:55.576935Z",
     "iopub.status.idle": "2022-07-19T05:43:55.594488Z",
     "shell.execute_reply": "2022-07-19T05:43:55.593239Z",
     "shell.execute_reply.started": "2022-07-19T05:43:55.578057Z"
    }
   },
   "outputs": [],
   "source": [
    "# Importing libraries\n",
    "%matplotlib inline\n",
    "import pandas as pd\n",
    "import matplotlib.pyplot as plt\n",
    "import seaborn as sns\n",
    "\n",
    "# To display all columns at once\n",
    "pd.set_option(\"display.max_columns\", None)"
   ]
  },
  {
   "cell_type": "code",
   "execution_count": 9,
   "metadata": {
    "execution": {
     "iopub.execute_input": "2022-07-19T05:43:55.844673Z",
     "iopub.status.busy": "2022-07-19T05:43:55.844281Z",
     "iopub.status.idle": "2022-07-19T05:45:05.503081Z",
     "shell.execute_reply": "2022-07-19T05:45:05.501748Z",
     "shell.execute_reply.started": "2022-07-19T05:43:55.844642Z"
    }
   },
   "outputs": [],
   "source": [
    "# Importing Data Set\n",
    "df = pd.read_csv(r'C:\\Users\\pranj\\OneDrive - University of Exeter\\BEMM457 - Topics in Business Analytics\\price_paid_records.csv')"
   ]
  },
  {
   "cell_type": "code",
   "execution_count": 10,
   "metadata": {
    "execution": {
     "iopub.execute_input": "2022-07-19T05:45:05.506302Z",
     "iopub.status.busy": "2022-07-19T05:45:05.505797Z",
     "iopub.status.idle": "2022-07-19T05:45:07.145123Z",
     "shell.execute_reply": "2022-07-19T05:45:07.141024Z",
     "shell.execute_reply.started": "2022-07-19T05:45:05.506253Z"
    }
   },
   "outputs": [],
   "source": [
    "# Randomly selecting 100 thousand rows as data is too big\n",
    "df_s = df.sample(n = 100000, random_state = 108)"
   ]
  },
  {
   "cell_type": "code",
   "execution_count": 11,
   "metadata": {
    "execution": {
     "iopub.execute_input": "2022-07-19T05:45:07.148112Z",
     "iopub.status.busy": "2022-07-19T05:45:07.147506Z",
     "iopub.status.idle": "2022-07-19T05:45:07.198683Z",
     "shell.execute_reply": "2022-07-19T05:45:07.195789Z",
     "shell.execute_reply.started": "2022-07-19T05:45:07.148052Z"
    }
   },
   "outputs": [
    {
     "data": {
      "text/html": [
       "<div>\n",
       "<style scoped>\n",
       "    .dataframe tbody tr th:only-of-type {\n",
       "        vertical-align: middle;\n",
       "    }\n",
       "\n",
       "    .dataframe tbody tr th {\n",
       "        vertical-align: top;\n",
       "    }\n",
       "\n",
       "    .dataframe thead th {\n",
       "        text-align: right;\n",
       "    }\n",
       "</style>\n",
       "<table border=\"1\" class=\"dataframe\">\n",
       "  <thead>\n",
       "    <tr style=\"text-align: right;\">\n",
       "      <th></th>\n",
       "      <th>Transaction unique identifier</th>\n",
       "      <th>Price</th>\n",
       "      <th>Date of Transfer</th>\n",
       "      <th>Property Type</th>\n",
       "      <th>Old/New</th>\n",
       "      <th>Duration</th>\n",
       "      <th>Town/City</th>\n",
       "      <th>District</th>\n",
       "      <th>County</th>\n",
       "      <th>PPDCategory Type</th>\n",
       "      <th>Record Status - monthly file only</th>\n",
       "    </tr>\n",
       "  </thead>\n",
       "  <tbody>\n",
       "    <tr>\n",
       "      <th>7783052</th>\n",
       "      <td>{05174041-D9C9-4589-8DC8-54391C2B0DE8}</td>\n",
       "      <td>114000</td>\n",
       "      <td>2002-04-08 00:00</td>\n",
       "      <td>S</td>\n",
       "      <td>N</td>\n",
       "      <td>F</td>\n",
       "      <td>EXETER</td>\n",
       "      <td>EXETER</td>\n",
       "      <td>DEVON</td>\n",
       "      <td>A</td>\n",
       "      <td>A</td>\n",
       "    </tr>\n",
       "    <tr>\n",
       "      <th>6507038</th>\n",
       "      <td>{B0C042EA-A3ED-4D08-9839-238626A54780}</td>\n",
       "      <td>76000</td>\n",
       "      <td>2001-04-09 00:00</td>\n",
       "      <td>S</td>\n",
       "      <td>N</td>\n",
       "      <td>L</td>\n",
       "      <td>BOLTON</td>\n",
       "      <td>BOLTON</td>\n",
       "      <td>GREATER MANCHESTER</td>\n",
       "      <td>A</td>\n",
       "      <td>A</td>\n",
       "    </tr>\n",
       "    <tr>\n",
       "      <th>13016861</th>\n",
       "      <td>{699EC06C-4140-47A0-89B9-4E638BDB6F64}</td>\n",
       "      <td>124950</td>\n",
       "      <td>2006-11-08 00:00</td>\n",
       "      <td>S</td>\n",
       "      <td>N</td>\n",
       "      <td>F</td>\n",
       "      <td>BLACKPOOL</td>\n",
       "      <td>BLACKPOOL</td>\n",
       "      <td>BLACKPOOL</td>\n",
       "      <td>A</td>\n",
       "      <td>A</td>\n",
       "    </tr>\n",
       "    <tr>\n",
       "      <th>18584945</th>\n",
       "      <td>{20FC5634-C854-43CC-9A27-88326B9A2F61}</td>\n",
       "      <td>73500</td>\n",
       "      <td>2013-10-23 00:00</td>\n",
       "      <td>T</td>\n",
       "      <td>N</td>\n",
       "      <td>F</td>\n",
       "      <td>SOWERBY BRIDGE</td>\n",
       "      <td>CALDERDALE</td>\n",
       "      <td>WEST YORKSHIRE</td>\n",
       "      <td>A</td>\n",
       "      <td>A</td>\n",
       "    </tr>\n",
       "    <tr>\n",
       "      <th>12853901</th>\n",
       "      <td>{9D057686-B984-4737-B1AC-1E8B6889A6BD}</td>\n",
       "      <td>28500</td>\n",
       "      <td>2006-08-21 00:00</td>\n",
       "      <td>F</td>\n",
       "      <td>Y</td>\n",
       "      <td>L</td>\n",
       "      <td>CHESTERFIELD</td>\n",
       "      <td>CHESTERFIELD</td>\n",
       "      <td>DERBYSHIRE</td>\n",
       "      <td>A</td>\n",
       "      <td>A</td>\n",
       "    </tr>\n",
       "  </tbody>\n",
       "</table>\n",
       "</div>"
      ],
      "text/plain": [
       "                   Transaction unique identifier   Price  Date of Transfer  \\\n",
       "7783052   {05174041-D9C9-4589-8DC8-54391C2B0DE8}  114000  2002-04-08 00:00   \n",
       "6507038   {B0C042EA-A3ED-4D08-9839-238626A54780}   76000  2001-04-09 00:00   \n",
       "13016861  {699EC06C-4140-47A0-89B9-4E638BDB6F64}  124950  2006-11-08 00:00   \n",
       "18584945  {20FC5634-C854-43CC-9A27-88326B9A2F61}   73500  2013-10-23 00:00   \n",
       "12853901  {9D057686-B984-4737-B1AC-1E8B6889A6BD}   28500  2006-08-21 00:00   \n",
       "\n",
       "         Property Type Old/New Duration       Town/City      District  \\\n",
       "7783052              S       N        F          EXETER        EXETER   \n",
       "6507038              S       N        L          BOLTON        BOLTON   \n",
       "13016861             S       N        F       BLACKPOOL     BLACKPOOL   \n",
       "18584945             T       N        F  SOWERBY BRIDGE    CALDERDALE   \n",
       "12853901             F       Y        L    CHESTERFIELD  CHESTERFIELD   \n",
       "\n",
       "                      County PPDCategory Type  \\\n",
       "7783052                DEVON                A   \n",
       "6507038   GREATER MANCHESTER                A   \n",
       "13016861           BLACKPOOL                A   \n",
       "18584945      WEST YORKSHIRE                A   \n",
       "12853901          DERBYSHIRE                A   \n",
       "\n",
       "         Record Status - monthly file only  \n",
       "7783052                                  A  \n",
       "6507038                                  A  \n",
       "13016861                                 A  \n",
       "18584945                                 A  \n",
       "12853901                                 A  "
      ]
     },
     "execution_count": 11,
     "metadata": {},
     "output_type": "execute_result"
    }
   ],
   "source": [
    "# Taking a look at the data\n",
    "df_s.head()"
   ]
  },
  {
   "cell_type": "code",
   "execution_count": 12,
   "metadata": {
    "execution": {
     "iopub.execute_input": "2022-07-19T05:45:07.208064Z",
     "iopub.status.busy": "2022-07-19T05:45:07.205572Z",
     "iopub.status.idle": "2022-07-19T05:45:07.591399Z",
     "shell.execute_reply": "2022-07-19T05:45:07.589374Z",
     "shell.execute_reply.started": "2022-07-19T05:45:07.207906Z"
    }
   },
   "outputs": [
    {
     "name": "stdout",
     "output_type": "stream",
     "text": [
      "<class 'pandas.core.frame.DataFrame'>\n",
      "Int64Index: 100000 entries, 7783052 to 3241141\n",
      "Data columns (total 11 columns):\n",
      " #   Column                             Non-Null Count   Dtype \n",
      "---  ------                             --------------   ----- \n",
      " 0   Transaction unique identifier      100000 non-null  object\n",
      " 1   Price                              100000 non-null  int64 \n",
      " 2   Date of Transfer                   100000 non-null  object\n",
      " 3   Property Type                      100000 non-null  object\n",
      " 4   Old/New                            100000 non-null  object\n",
      " 5   Duration                           100000 non-null  object\n",
      " 6   Town/City                          100000 non-null  object\n",
      " 7   District                           100000 non-null  object\n",
      " 8   County                             100000 non-null  object\n",
      " 9   PPDCategory Type                   100000 non-null  object\n",
      " 10  Record Status - monthly file only  100000 non-null  object\n",
      "dtypes: int64(1), object(10)\n",
      "memory usage: 9.2+ MB\n"
     ]
    }
   ],
   "source": [
    "# Summary of the data\n",
    "df_s.info()"
   ]
  },
  {
   "cell_type": "code",
   "execution_count": 13,
   "metadata": {
    "execution": {
     "iopub.execute_input": "2022-07-19T05:45:07.598457Z",
     "iopub.status.busy": "2022-07-19T05:45:07.595772Z",
     "iopub.status.idle": "2022-07-19T05:45:09.552734Z",
     "shell.execute_reply": "2022-07-19T05:45:09.549878Z",
     "shell.execute_reply.started": "2022-07-19T05:45:07.598355Z"
    }
   },
   "outputs": [
    {
     "name": "stderr",
     "output_type": "stream",
     "text": [
      "C:\\Users\\pranj\\anaconda3\\lib\\site-packages\\seaborn\\distributions.py:2619: FutureWarning: `distplot` is a deprecated function and will be removed in a future version. Please adapt your code to use either `displot` (a figure-level function with similar flexibility) or `histplot` (an axes-level function for histograms).\n",
      "  warnings.warn(msg, FutureWarning)\n"
     ]
    },
    {
     "data": {
      "image/png": "[encoded data removed]",
      "text/plain": [
       "<Figure size 432x288 with 1 Axes>"
      ]
     },
     "metadata": {
      "needs_background": "light"
     },
     "output_type": "display_data"
    }
   ],
   "source": [
    "sns.distplot(df_s[\"Price\"]);"
   ]
  },
  {
   "cell_type": "code",
   "execution_count": 14,
   "metadata": {
    "execution": {
     "iopub.execute_input": "2022-07-19T05:45:09.558716Z",
     "iopub.status.busy": "2022-07-19T05:45:09.556650Z",
     "iopub.status.idle": "2022-07-19T05:45:09.650160Z",
     "shell.execute_reply": "2022-07-19T05:45:09.648170Z",
     "shell.execute_reply.started": "2022-07-19T05:45:09.558587Z"
    }
   },
   "outputs": [
    {
     "data": {
      "text/plain": [
       "(62356, 11)"
      ]
     },
     "execution_count": 14,
     "metadata": {},
     "output_type": "execute_result"
    }
   ],
   "source": [
    "# Rows with Prices more than 100000\n",
    "df_s[df_s[\"Price\"] > 100000].shape"
   ]
  },
  {
   "cell_type": "code",
   "execution_count": 15,
   "metadata": {
    "execution": {
     "iopub.execute_input": "2022-07-19T05:45:09.656959Z",
     "iopub.status.busy": "2022-07-19T05:45:09.653480Z",
     "iopub.status.idle": "2022-07-19T05:45:12.252915Z",
     "shell.execute_reply": "2022-07-19T05:45:12.249621Z",
     "shell.execute_reply.started": "2022-07-19T05:45:09.656699Z"
    }
   },
   "outputs": [
    {
     "name": "stderr",
     "output_type": "stream",
     "text": [
      "C:\\Users\\pranj\\anaconda3\\lib\\site-packages\\seaborn\\distributions.py:2619: FutureWarning: `distplot` is a deprecated function and will be removed in a future version. Please adapt your code to use either `displot` (a figure-level function with similar flexibility) or `histplot` (an axes-level function for histograms).\n",
      "  warnings.warn(msg, FutureWarning)\n"
     ]
    },
    {
     "data": {
      "image/png": "[encoded data removed]",
      "text/plain": [
       "<Figure size 432x288 with 1 Axes>"
      ]
     },
     "metadata": {
      "needs_background": "light"
     },
     "output_type": "display_data"
    }
   ],
   "source": [
    "# Distribution of Price under 100 thousand\n",
    "sns.distplot(df_s[df_s[\"Price\"] < 100000][\"Price\"]);"
   ]
  },
  {
   "cell_type": "code",
   "execution_count": 16,
   "metadata": {
    "execution": {
     "iopub.execute_input": "2022-07-19T05:45:12.258310Z",
     "iopub.status.busy": "2022-07-19T05:45:12.257004Z",
     "iopub.status.idle": "2022-07-19T05:45:12.291416Z",
     "shell.execute_reply": "2022-07-19T05:45:12.287503Z",
     "shell.execute_reply.started": "2022-07-19T05:45:12.258174Z"
    }
   },
   "outputs": [],
   "source": [
    "# Creating new column as Price_bin\n",
    "bins = [0, 100000, 200000, 300000, 400000, 500000]\n",
    "labels = [100000, 200000, 300000, 400000, 500000]\n",
    "df_s[\"Price_bin\"] = pd.cut(df_s[\"Price\"], bins = bins, labels = labels)"
   ]
  },
  {
   "cell_type": "code",
   "execution_count": 17,
   "metadata": {
    "execution": {
     "iopub.execute_input": "2022-07-19T05:45:12.301675Z",
     "iopub.status.busy": "2022-07-19T05:45:12.298759Z",
     "iopub.status.idle": "2022-07-19T05:45:13.794525Z",
     "shell.execute_reply": "2022-07-19T05:45:13.793024Z",
     "shell.execute_reply.started": "2022-07-19T05:45:12.301416Z"
    }
   },
   "outputs": [
    {
     "name": "stderr",
     "output_type": "stream",
     "text": [
      "C:\\Users\\pranj\\anaconda3\\lib\\site-packages\\seaborn\\distributions.py:2619: FutureWarning: `distplot` is a deprecated function and will be removed in a future version. Please adapt your code to use either `displot` (a figure-level function with similar flexibility) or `histplot` (an axes-level function for histograms).\n",
      "  warnings.warn(msg, FutureWarning)\n"
     ]
    },
    {
     "data": {
      "image/png": "[encoded data removed]",
      "text/plain": [
       "<Figure size 432x288 with 1 Axes>"
      ]
     },
     "metadata": {
      "needs_background": "light"
     },
     "output_type": "display_data"
    }
   ],
   "source": [
    "# Distribution with binning of Price column\n",
    "sns.distplot(df_s[\"Price_bin\"]);"
   ]
  },
  {
   "cell_type": "code",
   "execution_count": 18,
   "metadata": {
    "execution": {
     "iopub.execute_input": "2022-07-19T05:45:13.802783Z",
     "iopub.status.busy": "2022-07-19T05:45:13.802017Z",
     "iopub.status.idle": "2022-07-19T05:45:14.092737Z",
     "shell.execute_reply": "2022-07-19T05:45:14.091482Z",
     "shell.execute_reply.started": "2022-07-19T05:45:13.802743Z"
    }
   },
   "outputs": [],
   "source": [
    "# Aggregating prices based on date\n",
    "df_daily=df_s.groupby(\"Date of Transfer\").agg([\"mean\"]).reset_index()"
   ]
  },
  {
   "cell_type": "code",
   "execution_count": 19,
   "metadata": {
    "execution": {
     "iopub.execute_input": "2022-07-19T05:45:14.094706Z",
     "iopub.status.busy": "2022-07-19T05:45:14.094362Z",
     "iopub.status.idle": "2022-07-19T05:45:14.127211Z",
     "shell.execute_reply": "2022-07-19T05:45:14.125913Z",
     "shell.execute_reply.started": "2022-07-19T05:45:14.094677Z"
    }
   },
   "outputs": [
    {
     "name": "stderr",
     "output_type": "stream",
     "text": [
      "C:\\Users\\pranj\\anaconda3\\lib\\site-packages\\pandas\\core\\generic.py:4150: PerformanceWarning: dropping on a non-lexsorted multi-index without a level parameter may impact performance.\n",
      "  obj = obj._drop_axis(labels, axis, level=level, errors=errors)\n"
     ]
    }
   ],
   "source": [
    "# Extracting year\n",
    "df_daily[\"Year\"] = pd.DatetimeIndex(df_daily[\"Date of Transfer\"]).year\n",
    "\n",
    "# Aggregating based on year\n",
    "df_yearly=df_daily.groupby(\"Year\").agg([\"mean\"]).reset_index()"
   ]
  },
  {
   "cell_type": "code",
   "execution_count": 20,
   "metadata": {
    "execution": {
     "iopub.execute_input": "2022-07-19T05:45:14.130492Z",
     "iopub.status.busy": "2022-07-19T05:45:14.130117Z",
     "iopub.status.idle": "2022-07-19T05:45:14.148297Z",
     "shell.execute_reply": "2022-07-19T05:45:14.146925Z",
     "shell.execute_reply.started": "2022-07-19T05:45:14.130460Z"
    }
   },
   "outputs": [
    {
     "data": {
      "text/html": [
       "<div>\n",
       "<style scoped>\n",
       "    .dataframe tbody tr th:only-of-type {\n",
       "        vertical-align: middle;\n",
       "    }\n",
       "\n",
       "    .dataframe tbody tr th {\n",
       "        vertical-align: top;\n",
       "    }\n",
       "\n",
       "    .dataframe thead th {\n",
       "        text-align: right;\n",
       "    }\n",
       "</style>\n",
       "<table border=\"1\" class=\"dataframe\">\n",
       "  <thead>\n",
       "    <tr style=\"text-align: right;\">\n",
       "      <th></th>\n",
       "      <th>Year</th>\n",
       "      <th>Avg_Price</th>\n",
       "    </tr>\n",
       "  </thead>\n",
       "  <tbody>\n",
       "    <tr>\n",
       "      <th>0</th>\n",
       "      <td>1995</td>\n",
       "      <td>70315.339915</td>\n",
       "    </tr>\n",
       "    <tr>\n",
       "      <th>1</th>\n",
       "      <td>1996</td>\n",
       "      <td>72263.609250</td>\n",
       "    </tr>\n",
       "    <tr>\n",
       "      <th>2</th>\n",
       "      <td>1997</td>\n",
       "      <td>81330.717487</td>\n",
       "    </tr>\n",
       "    <tr>\n",
       "      <th>3</th>\n",
       "      <td>1998</td>\n",
       "      <td>86989.710039</td>\n",
       "    </tr>\n",
       "    <tr>\n",
       "      <th>4</th>\n",
       "      <td>1999</td>\n",
       "      <td>99156.897724</td>\n",
       "    </tr>\n",
       "  </tbody>\n",
       "</table>\n",
       "</div>"
      ],
      "text/plain": [
       "   Year     Avg_Price\n",
       "0  1995  70315.339915\n",
       "1  1996  72263.609250\n",
       "2  1997  81330.717487\n",
       "3  1998  86989.710039\n",
       "4  1999  99156.897724"
      ]
     },
     "execution_count": 20,
     "metadata": {},
     "output_type": "execute_result"
    }
   ],
   "source": [
    "# Renaming the columns\n",
    "df_yearly.columns = [\"Year\", \"Avg_Price\"]\n",
    "df_yearly.head()"
   ]
  },
  {
   "cell_type": "code",
   "execution_count": 21,
   "metadata": {
    "execution": {
     "iopub.execute_input": "2022-07-19T05:45:14.151051Z",
     "iopub.status.busy": "2022-07-19T05:45:14.150149Z",
     "iopub.status.idle": "2022-07-19T05:45:14.528556Z",
     "shell.execute_reply": "2022-07-19T05:45:14.527270Z",
     "shell.execute_reply.started": "2022-07-19T05:45:14.151003Z"
    }
   },
   "outputs": [
    {
     "data": {
      "image/png": "[encoded data removed]",
      "text/plain": [
       "<Figure size 1080x576 with 1 Axes>"
      ]
     },
     "metadata": {
      "needs_background": "light"
     },
     "output_type": "display_data"
    }
   ],
   "source": [
    "# Yearly Average Price\n",
    "plt.figure(figsize=(15,8))\n",
    "ax = sns.barplot(data = df_yearly, x = \"Year\", y = \"Avg_Price\")"
   ]
  },
  {
   "cell_type": "code",
   "execution_count": 22,
   "metadata": {
    "execution": {
     "iopub.execute_input": "2022-07-19T05:45:14.531331Z",
     "iopub.status.busy": "2022-07-19T05:45:14.530254Z",
     "iopub.status.idle": "2022-07-19T05:45:14.879048Z",
     "shell.execute_reply": "2022-07-19T05:45:14.872288Z",
     "shell.execute_reply.started": "2022-07-19T05:45:14.531277Z"
    }
   },
   "outputs": [
    {
     "data": {
      "image/png": "[encoded data removed]",
      "text/plain": [
       "<Figure size 1080x576 with 1 Axes>"
      ]
     },
     "metadata": {
      "needs_background": "light"
     },
     "output_type": "display_data"
    }
   ],
   "source": [
    "# Visualizing Property Type\n",
    "plt.figure(figsize=(15,8))\n",
    "ax = df_s[\"Property Type\"].value_counts().plot.barh()\n",
    "ax.set_xlabel(\"Count\", fontsize = 12)\n",
    "ax.set_ylabel(\"Property Type\", fontsize = 12)\n",
    "plt.show()"
   ]
  },
  {
   "cell_type": "code",
   "execution_count": 23,
   "metadata": {
    "execution": {
     "iopub.execute_input": "2022-07-19T05:45:14.886729Z",
     "iopub.status.busy": "2022-07-19T05:45:14.884890Z",
     "iopub.status.idle": "2022-07-19T05:45:15.402017Z",
     "shell.execute_reply": "2022-07-19T05:45:15.400392Z",
     "shell.execute_reply.started": "2022-07-19T05:45:14.886622Z"
    }
   },
   "outputs": [
    {
     "data": {
      "image/png": "[encoded data removed]",
      "text/plain": [
       "<Figure size 1080x576 with 1 Axes>"
      ]
     },
     "metadata": {
      "needs_background": "light"
     },
     "output_type": "display_data"
    }
   ],
   "source": [
    "# Visualizing Old/New\n",
    "plt.figure(figsize=(15,8))\n",
    "ax = df_s[\"Old/New\"].value_counts().plot.barh()\n",
    "ax.set_xlabel(\"Count\", fontsize = 12)\n",
    "ax.set_ylabel(\"Old/New\", fontsize = 12)\n",
    "plt.show()"
   ]
  },
  {
   "cell_type": "code",
   "execution_count": 24,
   "metadata": {
    "execution": {
     "iopub.execute_input": "2022-07-19T05:45:15.404461Z",
     "iopub.status.busy": "2022-07-19T05:45:15.403917Z",
     "iopub.status.idle": "2022-07-19T05:45:15.698399Z",
     "shell.execute_reply": "2022-07-19T05:45:15.697068Z",
     "shell.execute_reply.started": "2022-07-19T05:45:15.404413Z"
    }
   },
   "outputs": [
    {
     "data": {
      "text/plain": [
       "<Figure size 1080x576 with 0 Axes>"
      ]
     },
     "metadata": {},
     "output_type": "display_data"
    },
    {
     "data": {
      "image/png": "[encoded data removed]",
      "text/plain": [
       "<Figure size 432x288 with 1 Axes>"
      ]
     },
     "metadata": {
      "needs_background": "light"
     },
     "output_type": "display_data"
    }
   ],
   "source": [
    "# Visualizing Property Type Vs Old/New\n",
    "plt.figure(figsize=(15,8))\n",
    "ax = pd.crosstab(df_s[\"Property Type\"], df_s[\"Old/New\"]).plot.barh()\n",
    "ax.set_xlabel(\"Count\")\n",
    "plt.show;"
   ]
  },
  {
   "cell_type": "code",
   "execution_count": 25,
   "metadata": {
    "execution": {
     "iopub.execute_input": "2022-07-19T05:45:15.700213Z",
     "iopub.status.busy": "2022-07-19T05:45:15.699815Z",
     "iopub.status.idle": "2022-07-19T05:45:15.949519Z",
     "shell.execute_reply": "2022-07-19T05:45:15.948279Z",
     "shell.execute_reply.started": "2022-07-19T05:45:15.700180Z"
    }
   },
   "outputs": [
    {
     "data": {
      "image/png": "[encoded data removed]",
      "text/plain": [
       "<Figure size 1080x576 with 1 Axes>"
      ]
     },
     "metadata": {
      "needs_background": "light"
     },
     "output_type": "display_data"
    }
   ],
   "source": [
    "# Visualizing Duration\n",
    "plt.figure(figsize=(15,8))\n",
    "ax = df_s[\"Duration\"].value_counts().plot.barh()\n",
    "ax.set_xlabel(\"Count\", fontsize = 12)\n",
    "ax.set_ylabel(\"Duration\", fontsize = 12)\n",
    "plt.show()"
   ]
  },
  {
   "cell_type": "code",
   "execution_count": 26,
   "metadata": {
    "execution": {
     "iopub.execute_input": "2022-07-19T05:45:15.953386Z",
     "iopub.status.busy": "2022-07-19T05:45:15.951068Z",
     "iopub.status.idle": "2022-07-19T05:45:15.980800Z",
     "shell.execute_reply": "2022-07-19T05:45:15.979242Z",
     "shell.execute_reply.started": "2022-07-19T05:45:15.953333Z"
    }
   },
   "outputs": [
    {
     "data": {
      "text/plain": [
       "F    76331\n",
       "L    23665\n",
       "U        4\n",
       "Name: Duration, dtype: int64"
      ]
     },
     "execution_count": 26,
     "metadata": {},
     "output_type": "execute_result"
    }
   ],
   "source": [
    "# Duration value counts.\n",
    "df_s[\"Duration\"].value_counts()"
   ]
  },
  {
   "cell_type": "code",
   "execution_count": 27,
   "metadata": {
    "execution": {
     "iopub.execute_input": "2022-07-19T05:45:15.986476Z",
     "iopub.status.busy": "2022-07-19T05:45:15.985159Z",
     "iopub.status.idle": "2022-07-19T05:45:16.390057Z",
     "shell.execute_reply": "2022-07-19T05:45:16.388889Z",
     "shell.execute_reply.started": "2022-07-19T05:45:15.986416Z"
    }
   },
   "outputs": [
    {
     "data": {
      "text/plain": [
       "<Figure size 1440x720 with 0 Axes>"
      ]
     },
     "metadata": {},
     "output_type": "display_data"
    },
    {
     "data": {
      "image/png": "[encoded data removed]",
      "text/plain": [
       "<Figure size 432x288 with 1 Axes>"
      ]
     },
     "metadata": {
      "needs_background": "light"
     },
     "output_type": "display_data"
    }
   ],
   "source": [
    "# Visualizing Property Type Vs Old/New and Duration\n",
    "plt.figure(figsize=(20,10))\n",
    "ax = pd.crosstab(df_s[\"Property Type\"], [df_s[\"Old/New\"], df_s[\"Duration\"]]).plot.barh()\n",
    "ax.set_xlabel(\"Count\")\n",
    "plt.show()"
   ]
  },
  {
   "cell_type": "code",
   "execution_count": 28,
   "metadata": {
    "execution": {
     "iopub.execute_input": "2022-07-19T05:45:16.392323Z",
     "iopub.status.busy": "2022-07-19T05:45:16.391844Z",
     "iopub.status.idle": "2022-07-19T05:45:16.443757Z",
     "shell.execute_reply": "2022-07-19T05:45:16.442457Z",
     "shell.execute_reply.started": "2022-07-19T05:45:16.392280Z"
    }
   },
   "outputs": [
    {
     "data": {
      "text/plain": [
       "LONDON                  8027\n",
       "MANCHESTER              1670\n",
       "BIRMINGHAM              1475\n",
       "BRISTOL                 1464\n",
       "NOTTINGHAM              1350\n",
       "                        ... \n",
       "BROUGHTON-IN-FURNESS       1\n",
       "MINDRUM                    1\n",
       "LYDBROOK                   1\n",
       "PENYSARN                   1\n",
       "MEIFOD                     1\n",
       "Name: Town/City, Length: 1140, dtype: int64"
      ]
     },
     "execution_count": 28,
     "metadata": {},
     "output_type": "execute_result"
    }
   ],
   "source": [
    "# Value counts for all the unique Towns and Cities\n",
    "df_s[\"Town/City\"].value_counts()"
   ]
  },
  {
   "cell_type": "code",
   "execution_count": 29,
   "metadata": {
    "execution": {
     "iopub.execute_input": "2022-07-19T05:45:16.446629Z",
     "iopub.status.busy": "2022-07-19T05:45:16.445436Z",
     "iopub.status.idle": "2022-07-19T05:45:16.482306Z",
     "shell.execute_reply": "2022-07-19T05:45:16.481160Z",
     "shell.execute_reply.started": "2022-07-19T05:45:16.446580Z"
    }
   },
   "outputs": [],
   "source": [
    "# Creating a data frame to select top 10 cities\n",
    "df_city = df_s[\"Town/City\"].value_counts().head(10)\n",
    "df_city = pd.DataFrame(df_city).reset_index()"
   ]
  },
  {
   "cell_type": "code",
   "execution_count": 30,
   "metadata": {
    "execution": {
     "iopub.execute_input": "2022-07-19T05:45:16.484567Z",
     "iopub.status.busy": "2022-07-19T05:45:16.483710Z",
     "iopub.status.idle": "2022-07-19T05:45:16.499924Z",
     "shell.execute_reply": "2022-07-19T05:45:16.498793Z",
     "shell.execute_reply.started": "2022-07-19T05:45:16.484534Z"
    }
   },
   "outputs": [
    {
     "data": {
      "text/html": [
       "<div>\n",
       "<style scoped>\n",
       "    .dataframe tbody tr th:only-of-type {\n",
       "        vertical-align: middle;\n",
       "    }\n",
       "\n",
       "    .dataframe tbody tr th {\n",
       "        vertical-align: top;\n",
       "    }\n",
       "\n",
       "    .dataframe thead th {\n",
       "        text-align: right;\n",
       "    }\n",
       "</style>\n",
       "<table border=\"1\" class=\"dataframe\">\n",
       "  <thead>\n",
       "    <tr style=\"text-align: right;\">\n",
       "      <th></th>\n",
       "      <th>Name</th>\n",
       "      <th>Count</th>\n",
       "    </tr>\n",
       "  </thead>\n",
       "  <tbody>\n",
       "    <tr>\n",
       "      <th>0</th>\n",
       "      <td>LONDON</td>\n",
       "      <td>8027</td>\n",
       "    </tr>\n",
       "    <tr>\n",
       "      <th>1</th>\n",
       "      <td>MANCHESTER</td>\n",
       "      <td>1670</td>\n",
       "    </tr>\n",
       "    <tr>\n",
       "      <th>2</th>\n",
       "      <td>BIRMINGHAM</td>\n",
       "      <td>1475</td>\n",
       "    </tr>\n",
       "    <tr>\n",
       "      <th>3</th>\n",
       "      <td>BRISTOL</td>\n",
       "      <td>1464</td>\n",
       "    </tr>\n",
       "    <tr>\n",
       "      <th>4</th>\n",
       "      <td>NOTTINGHAM</td>\n",
       "      <td>1350</td>\n",
       "    </tr>\n",
       "  </tbody>\n",
       "</table>\n",
       "</div>"
      ],
      "text/plain": [
       "         Name  Count\n",
       "0      LONDON   8027\n",
       "1  MANCHESTER   1670\n",
       "2  BIRMINGHAM   1475\n",
       "3     BRISTOL   1464\n",
       "4  NOTTINGHAM   1350"
      ]
     },
     "execution_count": 30,
     "metadata": {},
     "output_type": "execute_result"
    }
   ],
   "source": [
    "# Assigning names to the Columns\n",
    "df_city.columns = [\"Name\", \"Count\"]\n",
    "df_city.head()"
   ]
  },
  {
   "cell_type": "code",
   "execution_count": 31,
   "metadata": {
    "execution": {
     "iopub.execute_input": "2022-07-19T05:45:16.503572Z",
     "iopub.status.busy": "2022-07-19T05:45:16.501426Z",
     "iopub.status.idle": "2022-07-19T05:45:16.744501Z",
     "shell.execute_reply": "2022-07-19T05:45:16.743685Z",
     "shell.execute_reply.started": "2022-07-19T05:45:16.503522Z"
    }
   },
   "outputs": [
    {
     "data": {
      "image/png": "[encoded data removed]",
      "text/plain": [
       "<Figure size 1080x576 with 1 Axes>"
      ]
     },
     "metadata": {
      "needs_background": "light"
     },
     "output_type": "display_data"
    }
   ],
   "source": [
    "# Plotting the top 10 cities based on the number of properties sold\n",
    "plt.figure(figsize=(15,8))\n",
    "ax = sns.barplot(data = df_city, x = \"Name\", y = \"Count\")"
   ]
  },
  {
   "cell_type": "code",
   "execution_count": 32,
   "metadata": {
    "execution": {
     "iopub.execute_input": "2022-07-19T05:45:16.746906Z",
     "iopub.status.busy": "2022-07-19T05:45:16.745845Z",
     "iopub.status.idle": "2022-07-19T05:45:16.781192Z",
     "shell.execute_reply": "2022-07-19T05:45:16.780057Z",
     "shell.execute_reply.started": "2022-07-19T05:45:16.746855Z"
    }
   },
   "outputs": [],
   "source": [
    "# Creating a data frame to select bottom 10 towns/cities\n",
    "df_city_b = df_s[\"Town/City\"].value_counts().tail(10)\n",
    "df_city_b = pd.DataFrame(df_city_b).reset_index()"
   ]
  },
  {
   "cell_type": "code",
   "execution_count": 33,
   "metadata": {
    "execution": {
     "iopub.execute_input": "2022-07-19T05:45:16.783348Z",
     "iopub.status.busy": "2022-07-19T05:45:16.782981Z",
     "iopub.status.idle": "2022-07-19T05:45:16.801153Z",
     "shell.execute_reply": "2022-07-19T05:45:16.799708Z",
     "shell.execute_reply.started": "2022-07-19T05:45:16.783306Z"
    }
   },
   "outputs": [
    {
     "data": {
      "text/html": [
       "<div>\n",
       "<style scoped>\n",
       "    .dataframe tbody tr th:only-of-type {\n",
       "        vertical-align: middle;\n",
       "    }\n",
       "\n",
       "    .dataframe tbody tr th {\n",
       "        vertical-align: top;\n",
       "    }\n",
       "\n",
       "    .dataframe thead th {\n",
       "        text-align: right;\n",
       "    }\n",
       "</style>\n",
       "<table border=\"1\" class=\"dataframe\">\n",
       "  <thead>\n",
       "    <tr style=\"text-align: right;\">\n",
       "      <th></th>\n",
       "      <th>index</th>\n",
       "      <th>Town/City</th>\n",
       "    </tr>\n",
       "  </thead>\n",
       "  <tbody>\n",
       "    <tr>\n",
       "      <th>0</th>\n",
       "      <td>LLANDINAM</td>\n",
       "      <td>1</td>\n",
       "    </tr>\n",
       "    <tr>\n",
       "      <th>1</th>\n",
       "      <td>TREGARON</td>\n",
       "      <td>1</td>\n",
       "    </tr>\n",
       "    <tr>\n",
       "      <th>2</th>\n",
       "      <td>LLANFECHAIN</td>\n",
       "      <td>1</td>\n",
       "    </tr>\n",
       "    <tr>\n",
       "      <th>3</th>\n",
       "      <td>LLANFYRNACH</td>\n",
       "      <td>1</td>\n",
       "    </tr>\n",
       "    <tr>\n",
       "      <th>4</th>\n",
       "      <td>DOLWYDDELAN</td>\n",
       "      <td>1</td>\n",
       "    </tr>\n",
       "  </tbody>\n",
       "</table>\n",
       "</div>"
      ],
      "text/plain": [
       "         index  Town/City\n",
       "0    LLANDINAM          1\n",
       "1     TREGARON          1\n",
       "2  LLANFECHAIN          1\n",
       "3  LLANFYRNACH          1\n",
       "4  DOLWYDDELAN          1"
      ]
     },
     "execution_count": 33,
     "metadata": {},
     "output_type": "execute_result"
    }
   ],
   "source": [
    "df_city_b.head()"
   ]
  },
  {
   "cell_type": "code",
   "execution_count": 34,
   "metadata": {
    "execution": {
     "iopub.execute_input": "2022-07-19T05:45:16.803328Z",
     "iopub.status.busy": "2022-07-19T05:45:16.802656Z",
     "iopub.status.idle": "2022-07-19T05:45:16.819187Z",
     "shell.execute_reply": "2022-07-19T05:45:16.817750Z",
     "shell.execute_reply.started": "2022-07-19T05:45:16.803282Z"
    }
   },
   "outputs": [
    {
     "data": {
      "text/html": [
       "<div>\n",
       "<style scoped>\n",
       "    .dataframe tbody tr th:only-of-type {\n",
       "        vertical-align: middle;\n",
       "    }\n",
       "\n",
       "    .dataframe tbody tr th {\n",
       "        vertical-align: top;\n",
       "    }\n",
       "\n",
       "    .dataframe thead th {\n",
       "        text-align: right;\n",
       "    }\n",
       "</style>\n",
       "<table border=\"1\" class=\"dataframe\">\n",
       "  <thead>\n",
       "    <tr style=\"text-align: right;\">\n",
       "      <th></th>\n",
       "      <th>Name</th>\n",
       "      <th>Count</th>\n",
       "    </tr>\n",
       "  </thead>\n",
       "  <tbody>\n",
       "    <tr>\n",
       "      <th>0</th>\n",
       "      <td>LLANDINAM</td>\n",
       "      <td>1</td>\n",
       "    </tr>\n",
       "    <tr>\n",
       "      <th>1</th>\n",
       "      <td>TREGARON</td>\n",
       "      <td>1</td>\n",
       "    </tr>\n",
       "    <tr>\n",
       "      <th>2</th>\n",
       "      <td>LLANFECHAIN</td>\n",
       "      <td>1</td>\n",
       "    </tr>\n",
       "    <tr>\n",
       "      <th>3</th>\n",
       "      <td>LLANFYRNACH</td>\n",
       "      <td>1</td>\n",
       "    </tr>\n",
       "    <tr>\n",
       "      <th>4</th>\n",
       "      <td>DOLWYDDELAN</td>\n",
       "      <td>1</td>\n",
       "    </tr>\n",
       "  </tbody>\n",
       "</table>\n",
       "</div>"
      ],
      "text/plain": [
       "          Name  Count\n",
       "0    LLANDINAM      1\n",
       "1     TREGARON      1\n",
       "2  LLANFECHAIN      1\n",
       "3  LLANFYRNACH      1\n",
       "4  DOLWYDDELAN      1"
      ]
     },
     "execution_count": 34,
     "metadata": {},
     "output_type": "execute_result"
    }
   ],
   "source": [
    "# Assigning names to the Columns\n",
    "df_city_b.columns = [\"Name\", \"Count\"]\n",
    "df_city_b.head()"
   ]
  },
  {
   "cell_type": "code",
   "execution_count": 35,
   "metadata": {
    "execution": {
     "iopub.execute_input": "2022-07-19T05:45:16.823176Z",
     "iopub.status.busy": "2022-07-19T05:45:16.822177Z",
     "iopub.status.idle": "2022-07-19T05:45:17.059047Z",
     "shell.execute_reply": "2022-07-19T05:45:17.058143Z",
     "shell.execute_reply.started": "2022-07-19T05:45:16.823127Z"
    }
   },
   "outputs": [
    {
     "data": {
      "image/png": "[encoded data removed]",
      "text/plain": [
       "<Figure size 1440x360 with 1 Axes>"
      ]
     },
     "metadata": {
      "needs_background": "light"
     },
     "output_type": "display_data"
    }
   ],
   "source": [
    "# Plotting the bottom 10 cities based on the number of properties sold\n",
    "plt.figure(figsize=(20,5))\n",
    "ax = sns.barplot(data = df_city_b, x = \"Name\", y = \"Count\")"
   ]
  },
  {
   "cell_type": "code",
   "execution_count": 36,
   "metadata": {
    "execution": {
     "iopub.execute_input": "2022-07-19T05:45:17.068786Z",
     "iopub.status.busy": "2022-07-19T05:45:17.067877Z",
     "iopub.status.idle": "2022-07-19T05:45:17.105589Z",
     "shell.execute_reply": "2022-07-19T05:45:17.104453Z",
     "shell.execute_reply.started": "2022-07-19T05:45:17.068734Z"
    }
   },
   "outputs": [
    {
     "data": {
      "text/plain": [
       "BIRMINGHAM             1462\n",
       "LEEDS                  1322\n",
       "BRADFORD                859\n",
       "MANCHESTER              836\n",
       "SHEFFIELD               811\n",
       "                       ... \n",
       "DINEFWR                   1\n",
       "RHUDDLAN                  1\n",
       "SCUNTHORPE                1\n",
       "HOLDERNESS                1\n",
       "SOUTH PEMBROKESHIRE       1\n",
       "Name: District, Length: 445, dtype: int64"
      ]
     },
     "execution_count": 36,
     "metadata": {},
     "output_type": "execute_result"
    }
   ],
   "source": [
    "df_s[\"District\"].value_counts()"
   ]
  },
  {
   "cell_type": "code",
   "execution_count": 37,
   "metadata": {
    "execution": {
     "iopub.execute_input": "2022-07-19T05:45:17.107915Z",
     "iopub.status.busy": "2022-07-19T05:45:17.107146Z",
     "iopub.status.idle": "2022-07-19T05:45:17.141830Z",
     "shell.execute_reply": "2022-07-19T05:45:17.140567Z",
     "shell.execute_reply.started": "2022-07-19T05:45:17.107870Z"
    }
   },
   "outputs": [],
   "source": [
    "# Creating a data frame to select top 10 districts\n",
    "df_district = df_s[\"District\"].value_counts().head(10)\n",
    "df_district = pd.DataFrame(df_district).reset_index()"
   ]
  },
  {
   "cell_type": "code",
   "execution_count": 38,
   "metadata": {
    "execution": {
     "iopub.execute_input": "2022-07-19T05:45:17.143912Z",
     "iopub.status.busy": "2022-07-19T05:45:17.143555Z",
     "iopub.status.idle": "2022-07-19T05:45:17.161823Z",
     "shell.execute_reply": "2022-07-19T05:45:17.160746Z",
     "shell.execute_reply.started": "2022-07-19T05:45:17.143880Z"
    }
   },
   "outputs": [
    {
     "data": {
      "text/html": [
       "<div>\n",
       "<style scoped>\n",
       "    .dataframe tbody tr th:only-of-type {\n",
       "        vertical-align: middle;\n",
       "    }\n",
       "\n",
       "    .dataframe tbody tr th {\n",
       "        vertical-align: top;\n",
       "    }\n",
       "\n",
       "    .dataframe thead th {\n",
       "        text-align: right;\n",
       "    }\n",
       "</style>\n",
       "<table border=\"1\" class=\"dataframe\">\n",
       "  <thead>\n",
       "    <tr style=\"text-align: right;\">\n",
       "      <th></th>\n",
       "      <th>Name</th>\n",
       "      <th>Count</th>\n",
       "    </tr>\n",
       "  </thead>\n",
       "  <tbody>\n",
       "    <tr>\n",
       "      <th>0</th>\n",
       "      <td>BIRMINGHAM</td>\n",
       "      <td>1462</td>\n",
       "    </tr>\n",
       "    <tr>\n",
       "      <th>1</th>\n",
       "      <td>LEEDS</td>\n",
       "      <td>1322</td>\n",
       "    </tr>\n",
       "    <tr>\n",
       "      <th>2</th>\n",
       "      <td>BRADFORD</td>\n",
       "      <td>859</td>\n",
       "    </tr>\n",
       "    <tr>\n",
       "      <th>3</th>\n",
       "      <td>MANCHESTER</td>\n",
       "      <td>836</td>\n",
       "    </tr>\n",
       "    <tr>\n",
       "      <th>4</th>\n",
       "      <td>SHEFFIELD</td>\n",
       "      <td>811</td>\n",
       "    </tr>\n",
       "  </tbody>\n",
       "</table>\n",
       "</div>"
      ],
      "text/plain": [
       "         Name  Count\n",
       "0  BIRMINGHAM   1462\n",
       "1       LEEDS   1322\n",
       "2    BRADFORD    859\n",
       "3  MANCHESTER    836\n",
       "4   SHEFFIELD    811"
      ]
     },
     "execution_count": 38,
     "metadata": {},
     "output_type": "execute_result"
    }
   ],
   "source": [
    "# Assigning names to the Columns\n",
    "df_district.columns = [\"Name\", \"Count\"]\n",
    "df_district.head()"
   ]
  },
  {
   "cell_type": "code",
   "execution_count": 39,
   "metadata": {
    "execution": {
     "iopub.execute_input": "2022-07-19T05:45:17.164774Z",
     "iopub.status.busy": "2022-07-19T05:45:17.164076Z",
     "iopub.status.idle": "2022-07-19T05:45:17.414621Z",
     "shell.execute_reply": "2022-07-19T05:45:17.413381Z",
     "shell.execute_reply.started": "2022-07-19T05:45:17.164726Z"
    }
   },
   "outputs": [
    {
     "data": {
      "image/png": "[encoded data removed]",
      "text/plain": [
       "<Figure size 1080x576 with 1 Axes>"
      ]
     },
     "metadata": {
      "needs_background": "light"
     },
     "output_type": "display_data"
    }
   ],
   "source": [
    "# Plotting the top 10 districts based on the number of properties sold\n",
    "plt.figure(figsize=(15,8))\n",
    "ax = sns.barplot(data = df_district, x = \"Name\", y = \"Count\")"
   ]
  },
  {
   "cell_type": "code",
   "execution_count": 40,
   "metadata": {
    "execution": {
     "iopub.execute_input": "2022-07-19T05:45:17.417360Z",
     "iopub.status.busy": "2022-07-19T05:45:17.416234Z",
     "iopub.status.idle": "2022-07-19T05:45:17.448979Z",
     "shell.execute_reply": "2022-07-19T05:45:17.447757Z",
     "shell.execute_reply.started": "2022-07-19T05:45:17.417309Z"
    }
   },
   "outputs": [
    {
     "data": {
      "text/plain": [
       "GREATER LONDON        13461\n",
       "GREATER MANCHESTER     4439\n",
       "WEST MIDLANDS          3787\n",
       "WEST YORKSHIRE         3754\n",
       "ESSEX                  2851\n",
       "                      ...  \n",
       "DYFED                    11\n",
       "CLEVELAND                10\n",
       "GWENT                     8\n",
       "WEST GLAMORGAN            5\n",
       "ISLES OF SCILLY           3\n",
       "Name: County, Length: 127, dtype: int64"
      ]
     },
     "execution_count": 40,
     "metadata": {},
     "output_type": "execute_result"
    }
   ],
   "source": [
    "df_s[\"County\"].value_counts()"
   ]
  },
  {
   "cell_type": "code",
   "execution_count": 41,
   "metadata": {
    "execution": {
     "iopub.execute_input": "2022-07-19T05:45:17.451015Z",
     "iopub.status.busy": "2022-07-19T05:45:17.450558Z",
     "iopub.status.idle": "2022-07-19T05:45:17.481085Z",
     "shell.execute_reply": "2022-07-19T05:45:17.480135Z",
     "shell.execute_reply.started": "2022-07-19T05:45:17.450972Z"
    }
   },
   "outputs": [],
   "source": [
    "# Creating a data frame to select top 10 counties\n",
    "df_county = df_s[\"County\"].value_counts().head(10)\n",
    "df_county = pd.DataFrame(df_county).reset_index()"
   ]
  },
  {
   "cell_type": "code",
   "execution_count": 42,
   "metadata": {
    "execution": {
     "iopub.execute_input": "2022-07-19T05:45:17.483249Z",
     "iopub.status.busy": "2022-07-19T05:45:17.482278Z",
     "iopub.status.idle": "2022-07-19T05:45:17.499189Z",
     "shell.execute_reply": "2022-07-19T05:45:17.498043Z",
     "shell.execute_reply.started": "2022-07-19T05:45:17.483211Z"
    }
   },
   "outputs": [
    {
     "data": {
      "text/html": [
       "<div>\n",
       "<style scoped>\n",
       "    .dataframe tbody tr th:only-of-type {\n",
       "        vertical-align: middle;\n",
       "    }\n",
       "\n",
       "    .dataframe tbody tr th {\n",
       "        vertical-align: top;\n",
       "    }\n",
       "\n",
       "    .dataframe thead th {\n",
       "        text-align: right;\n",
       "    }\n",
       "</style>\n",
       "<table border=\"1\" class=\"dataframe\">\n",
       "  <thead>\n",
       "    <tr style=\"text-align: right;\">\n",
       "      <th></th>\n",
       "      <th>Name</th>\n",
       "      <th>Count</th>\n",
       "    </tr>\n",
       "  </thead>\n",
       "  <tbody>\n",
       "    <tr>\n",
       "      <th>0</th>\n",
       "      <td>GREATER LONDON</td>\n",
       "      <td>13461</td>\n",
       "    </tr>\n",
       "    <tr>\n",
       "      <th>1</th>\n",
       "      <td>GREATER MANCHESTER</td>\n",
       "      <td>4439</td>\n",
       "    </tr>\n",
       "    <tr>\n",
       "      <th>2</th>\n",
       "      <td>WEST MIDLANDS</td>\n",
       "      <td>3787</td>\n",
       "    </tr>\n",
       "    <tr>\n",
       "      <th>3</th>\n",
       "      <td>WEST YORKSHIRE</td>\n",
       "      <td>3754</td>\n",
       "    </tr>\n",
       "    <tr>\n",
       "      <th>4</th>\n",
       "      <td>ESSEX</td>\n",
       "      <td>2851</td>\n",
       "    </tr>\n",
       "  </tbody>\n",
       "</table>\n",
       "</div>"
      ],
      "text/plain": [
       "                 Name  Count\n",
       "0      GREATER LONDON  13461\n",
       "1  GREATER MANCHESTER   4439\n",
       "2       WEST MIDLANDS   3787\n",
       "3      WEST YORKSHIRE   3754\n",
       "4               ESSEX   2851"
      ]
     },
     "execution_count": 42,
     "metadata": {},
     "output_type": "execute_result"
    }
   ],
   "source": [
    "# Assigning names to the Columns\n",
    "df_county.columns = [\"Name\", \"Count\"]\n",
    "df_county.head()"
   ]
  },
  {
   "cell_type": "code",
   "execution_count": 43,
   "metadata": {
    "execution": {
     "iopub.execute_input": "2022-07-19T05:45:17.500824Z",
     "iopub.status.busy": "2022-07-19T05:45:17.500465Z",
     "iopub.status.idle": "2022-07-19T05:45:17.760656Z",
     "shell.execute_reply": "2022-07-19T05:45:17.759408Z",
     "shell.execute_reply.started": "2022-07-19T05:45:17.500791Z"
    }
   },
   "outputs": [
    {
     "data": {
      "image/png": "[encoded data removed]",
      "text/plain": [
       "<Figure size 1440x576 with 1 Axes>"
      ]
     },
     "metadata": {
      "needs_background": "light"
     },
     "output_type": "display_data"
    }
   ],
   "source": [
    "# Plotting the top 10 counties based on the number of properties sold\n",
    "plt.figure(figsize=(20,8))\n",
    "ax = sns.barplot(data = df_county, x = \"Name\", y = \"Count\")"
   ]
  },
  {
   "cell_type": "code",
   "execution_count": 44,
   "metadata": {
    "execution": {
     "iopub.execute_input": "2022-07-19T05:45:17.763429Z",
     "iopub.status.busy": "2022-07-19T05:45:17.762261Z",
     "iopub.status.idle": "2022-07-19T05:45:17.817109Z",
     "shell.execute_reply": "2022-07-19T05:45:17.816235Z",
     "shell.execute_reply.started": "2022-07-19T05:45:17.763380Z"
    }
   },
   "outputs": [
    {
     "data": {
      "text/html": [
       "<div>\n",
       "<style scoped>\n",
       "    .dataframe tbody tr th:only-of-type {\n",
       "        vertical-align: middle;\n",
       "    }\n",
       "\n",
       "    .dataframe tbody tr th {\n",
       "        vertical-align: top;\n",
       "    }\n",
       "\n",
       "    .dataframe thead th {\n",
       "        text-align: right;\n",
       "    }\n",
       "</style>\n",
       "<table border=\"1\" class=\"dataframe\">\n",
       "  <thead>\n",
       "    <tr style=\"text-align: right;\">\n",
       "      <th></th>\n",
       "      <th>Transaction unique identifier</th>\n",
       "      <th>Price</th>\n",
       "      <th>Date of Transfer</th>\n",
       "      <th>Property Type</th>\n",
       "      <th>Old/New</th>\n",
       "      <th>Duration</th>\n",
       "      <th>Town/City</th>\n",
       "      <th>District</th>\n",
       "      <th>County</th>\n",
       "      <th>PPDCategory Type</th>\n",
       "      <th>Record Status - monthly file only</th>\n",
       "      <th>Price_bin</th>\n",
       "    </tr>\n",
       "  </thead>\n",
       "  <tbody>\n",
       "    <tr>\n",
       "      <th>19155305</th>\n",
       "      <td>{4FE588BA-9028-4448-8CF6-9BAFC381D56A}</td>\n",
       "      <td>245000</td>\n",
       "      <td>2014-12-16 00:00</td>\n",
       "      <td>F</td>\n",
       "      <td>N</td>\n",
       "      <td>L</td>\n",
       "      <td>LONDON</td>\n",
       "      <td>LEWISHAM</td>\n",
       "      <td>GREATER LONDON</td>\n",
       "      <td>A</td>\n",
       "      <td>A</td>\n",
       "      <td>300000</td>\n",
       "    </tr>\n",
       "    <tr>\n",
       "      <th>21510264</th>\n",
       "      <td>{39140479-89A8-3206-E050-A8C063057647}</td>\n",
       "      <td>495000</td>\n",
       "      <td>2016-07-06 00:00</td>\n",
       "      <td>T</td>\n",
       "      <td>N</td>\n",
       "      <td>F</td>\n",
       "      <td>LONDON</td>\n",
       "      <td>WALTHAM FOREST</td>\n",
       "      <td>GREATER LONDON</td>\n",
       "      <td>A</td>\n",
       "      <td>A</td>\n",
       "      <td>500000</td>\n",
       "    </tr>\n",
       "    <tr>\n",
       "      <th>16891033</th>\n",
       "      <td>{DA13BD58-262A-4482-8A1D-EE584C7CFB44}</td>\n",
       "      <td>700000</td>\n",
       "      <td>2010-02-18 00:00</td>\n",
       "      <td>F</td>\n",
       "      <td>N</td>\n",
       "      <td>L</td>\n",
       "      <td>LONDON</td>\n",
       "      <td>CITY OF WESTMINSTER</td>\n",
       "      <td>GREATER LONDON</td>\n",
       "      <td>A</td>\n",
       "      <td>A</td>\n",
       "      <td>NaN</td>\n",
       "    </tr>\n",
       "    <tr>\n",
       "      <th>11588435</th>\n",
       "      <td>{0F92A637-5CE2-4967-B070-1E20AB8FB7DD}</td>\n",
       "      <td>249950</td>\n",
       "      <td>2005-05-04 00:00</td>\n",
       "      <td>F</td>\n",
       "      <td>N</td>\n",
       "      <td>L</td>\n",
       "      <td>LONDON</td>\n",
       "      <td>EALING</td>\n",
       "      <td>GREATER LONDON</td>\n",
       "      <td>A</td>\n",
       "      <td>A</td>\n",
       "      <td>300000</td>\n",
       "    </tr>\n",
       "    <tr>\n",
       "      <th>2438942</th>\n",
       "      <td>{C50BE35B-A176-4FEF-B258-FA9E536F4CE1}</td>\n",
       "      <td>112250</td>\n",
       "      <td>1997-07-11 00:00</td>\n",
       "      <td>F</td>\n",
       "      <td>N</td>\n",
       "      <td>L</td>\n",
       "      <td>LONDON</td>\n",
       "      <td>WANDSWORTH</td>\n",
       "      <td>GREATER LONDON</td>\n",
       "      <td>A</td>\n",
       "      <td>A</td>\n",
       "      <td>200000</td>\n",
       "    </tr>\n",
       "    <tr>\n",
       "      <th>...</th>\n",
       "      <td>...</td>\n",
       "      <td>...</td>\n",
       "      <td>...</td>\n",
       "      <td>...</td>\n",
       "      <td>...</td>\n",
       "      <td>...</td>\n",
       "      <td>...</td>\n",
       "      <td>...</td>\n",
       "      <td>...</td>\n",
       "      <td>...</td>\n",
       "      <td>...</td>\n",
       "      <td>...</td>\n",
       "    </tr>\n",
       "    <tr>\n",
       "      <th>21054379</th>\n",
       "      <td>{2D1E4B26-E04E-FCD1-E050-A8C0630544EC}</td>\n",
       "      <td>1117125</td>\n",
       "      <td>2015-12-15 00:00</td>\n",
       "      <td>F</td>\n",
       "      <td>Y</td>\n",
       "      <td>L</td>\n",
       "      <td>LONDON</td>\n",
       "      <td>WANDSWORTH</td>\n",
       "      <td>GREATER LONDON</td>\n",
       "      <td>A</td>\n",
       "      <td>A</td>\n",
       "      <td>NaN</td>\n",
       "    </tr>\n",
       "    <tr>\n",
       "      <th>14962594</th>\n",
       "      <td>{17819628-EA54-466F-B805-BDC6565ADEED}</td>\n",
       "      <td>296000</td>\n",
       "      <td>2007-10-12 00:00</td>\n",
       "      <td>F</td>\n",
       "      <td>N</td>\n",
       "      <td>L</td>\n",
       "      <td>LONDON</td>\n",
       "      <td>HAMMERSMITH AND FULHAM</td>\n",
       "      <td>GREATER LONDON</td>\n",
       "      <td>A</td>\n",
       "      <td>A</td>\n",
       "      <td>300000</td>\n",
       "    </tr>\n",
       "    <tr>\n",
       "      <th>5902538</th>\n",
       "      <td>{E90BD6D0-6148-4416-9EFB-DF89E4698451}</td>\n",
       "      <td>122000</td>\n",
       "      <td>2000-12-12 00:00</td>\n",
       "      <td>T</td>\n",
       "      <td>N</td>\n",
       "      <td>F</td>\n",
       "      <td>LONDON</td>\n",
       "      <td>NEWHAM</td>\n",
       "      <td>GREATER LONDON</td>\n",
       "      <td>A</td>\n",
       "      <td>A</td>\n",
       "      <td>200000</td>\n",
       "    </tr>\n",
       "    <tr>\n",
       "      <th>15010344</th>\n",
       "      <td>{BE3B9861-4877-4050-B7F3-B9F433C8BBA8}</td>\n",
       "      <td>235000</td>\n",
       "      <td>2007-01-16 00:00</td>\n",
       "      <td>F</td>\n",
       "      <td>N</td>\n",
       "      <td>L</td>\n",
       "      <td>LONDON</td>\n",
       "      <td>LEWISHAM</td>\n",
       "      <td>GREATER LONDON</td>\n",
       "      <td>A</td>\n",
       "      <td>A</td>\n",
       "      <td>300000</td>\n",
       "    </tr>\n",
       "    <tr>\n",
       "      <th>1250688</th>\n",
       "      <td>{2A289E9D-9C0F-CDC8-E050-A8C063054829}</td>\n",
       "      <td>48000</td>\n",
       "      <td>1996-08-16 00:00</td>\n",
       "      <td>F</td>\n",
       "      <td>Y</td>\n",
       "      <td>L</td>\n",
       "      <td>LONDON</td>\n",
       "      <td>TOWER HAMLETS</td>\n",
       "      <td>GREATER LONDON</td>\n",
       "      <td>A</td>\n",
       "      <td>A</td>\n",
       "      <td>100000</td>\n",
       "    </tr>\n",
       "  </tbody>\n",
       "</table>\n",
       "<p>8027 rows × 12 columns</p>\n",
       "</div>"
      ],
      "text/plain": [
       "                   Transaction unique identifier    Price  Date of Transfer  \\\n",
       "19155305  {4FE588BA-9028-4448-8CF6-9BAFC381D56A}   245000  2014-12-16 00:00   \n",
       "21510264  {39140479-89A8-3206-E050-A8C063057647}   495000  2016-07-06 00:00   \n",
       "16891033  {DA13BD58-262A-4482-8A1D-EE584C7CFB44}   700000  2010-02-18 00:00   \n",
       "11588435  {0F92A637-5CE2-4967-B070-1E20AB8FB7DD}   249950  2005-05-04 00:00   \n",
       "2438942   {C50BE35B-A176-4FEF-B258-FA9E536F4CE1}   112250  1997-07-11 00:00   \n",
       "...                                          ...      ...               ...   \n",
       "21054379  {2D1E4B26-E04E-FCD1-E050-A8C0630544EC}  1117125  2015-12-15 00:00   \n",
       "14962594  {17819628-EA54-466F-B805-BDC6565ADEED}   296000  2007-10-12 00:00   \n",
       "5902538   {E90BD6D0-6148-4416-9EFB-DF89E4698451}   122000  2000-12-12 00:00   \n",
       "15010344  {BE3B9861-4877-4050-B7F3-B9F433C8BBA8}   235000  2007-01-16 00:00   \n",
       "1250688   {2A289E9D-9C0F-CDC8-E050-A8C063054829}    48000  1996-08-16 00:00   \n",
       "\n",
       "         Property Type Old/New Duration Town/City                District  \\\n",
       "19155305             F       N        L    LONDON                LEWISHAM   \n",
       "21510264             T       N        F    LONDON          WALTHAM FOREST   \n",
       "16891033             F       N        L    LONDON     CITY OF WESTMINSTER   \n",
       "11588435             F       N        L    LONDON                  EALING   \n",
       "2438942              F       N        L    LONDON              WANDSWORTH   \n",
       "...                ...     ...      ...       ...                     ...   \n",
       "21054379             F       Y        L    LONDON              WANDSWORTH   \n",
       "14962594             F       N        L    LONDON  HAMMERSMITH AND FULHAM   \n",
       "5902538              T       N        F    LONDON                  NEWHAM   \n",
       "15010344             F       N        L    LONDON                LEWISHAM   \n",
       "1250688              F       Y        L    LONDON           TOWER HAMLETS   \n",
       "\n",
       "                  County PPDCategory Type Record Status - monthly file only  \\\n",
       "19155305  GREATER LONDON                A                                 A   \n",
       "21510264  GREATER LONDON                A                                 A   \n",
       "16891033  GREATER LONDON                A                                 A   \n",
       "11588435  GREATER LONDON                A                                 A   \n",
       "2438942   GREATER LONDON                A                                 A   \n",
       "...                  ...              ...                               ...   \n",
       "21054379  GREATER LONDON                A                                 A   \n",
       "14962594  GREATER LONDON                A                                 A   \n",
       "5902538   GREATER LONDON                A                                 A   \n",
       "15010344  GREATER LONDON                A                                 A   \n",
       "1250688   GREATER LONDON                A                                 A   \n",
       "\n",
       "         Price_bin  \n",
       "19155305    300000  \n",
       "21510264    500000  \n",
       "16891033       NaN  \n",
       "11588435    300000  \n",
       "2438942     200000  \n",
       "...            ...  \n",
       "21054379       NaN  \n",
       "14962594    300000  \n",
       "5902538     200000  \n",
       "15010344    300000  \n",
       "1250688     100000  \n",
       "\n",
       "[8027 rows x 12 columns]"
      ]
     },
     "execution_count": 44,
     "metadata": {},
     "output_type": "execute_result"
    }
   ],
   "source": [
    "df_s[df_s[\"Town/City\"] == \"LONDON\"]"
   ]
  },
  {
   "cell_type": "code",
   "execution_count": 45,
   "metadata": {
    "execution": {
     "iopub.execute_input": "2022-07-19T05:45:17.818931Z",
     "iopub.status.busy": "2022-07-19T05:45:17.818389Z",
     "iopub.status.idle": "2022-07-19T05:45:18.002886Z",
     "shell.execute_reply": "2022-07-19T05:45:18.002054Z",
     "shell.execute_reply.started": "2022-07-19T05:45:17.818900Z"
    }
   },
   "outputs": [
    {
     "data": {
      "image/png": "[encoded data removed]",
      "text/plain": [
       "<Figure size 720x360 with 1 Axes>"
      ]
     },
     "metadata": {
      "needs_background": "light"
     },
     "output_type": "display_data"
    }
   ],
   "source": [
    "# Visualizing PPDCategory Type\n",
    "plt.figure(figsize=(10,5))\n",
    "ax = df_s[\"PPDCategory Type\"].value_counts().plot.barh()\n",
    "ax.set_xlabel(\"Count\", fontsize = 12)\n",
    "ax.set_ylabel(\"PPDCategory Type\", fontsize = 12)\n",
    "plt.show();"
   ]
  },
  {
   "cell_type": "code",
   "execution_count": 46,
   "metadata": {
    "execution": {
     "iopub.execute_input": "2022-07-19T05:45:18.005161Z",
     "iopub.status.busy": "2022-07-19T05:45:18.004105Z",
     "iopub.status.idle": "2022-07-19T05:45:18.181836Z",
     "shell.execute_reply": "2022-07-19T05:45:18.180708Z",
     "shell.execute_reply.started": "2022-07-19T05:45:18.005113Z"
    }
   },
   "outputs": [
    {
     "data": {
      "image/png": "[encoded data removed]",
      "text/plain": [
       "<Figure size 720x360 with 1 Axes>"
      ]
     },
     "metadata": {
      "needs_background": "light"
     },
     "output_type": "display_data"
    }
   ],
   "source": [
    "# Visualizing Record Status - monthly file only\n",
    "plt.figure(figsize=(10,5))\n",
    "ax = df_s[\"Record Status - monthly file only\"].value_counts().plot.barh()\n",
    "ax.set_xlabel(\"Count\", fontsize = 12)\n",
    "ax.set_ylabel(\"Record Status - monthly file only\", fontsize = 12)\n",
    "plt.show();"
   ]
  },
  {
   "cell_type": "code",
   "execution_count": 47,
   "metadata": {
    "execution": {
     "iopub.execute_input": "2022-07-19T05:45:18.183594Z",
     "iopub.status.busy": "2022-07-19T05:45:18.183296Z",
     "iopub.status.idle": "2022-07-19T05:45:20.864894Z",
     "shell.execute_reply": "2022-07-19T05:45:20.864051Z",
     "shell.execute_reply.started": "2022-07-19T05:45:18.183566Z"
    }
   },
   "outputs": [
    {
     "data": {
      "image/png": "[encoded data removed]",
      "text/plain": [
       "<Figure size 720x360 with 1 Axes>"
      ]
     },
     "metadata": {
      "needs_background": "light"
     },
     "output_type": "display_data"
    }
   ],
   "source": [
    "# Visualizing Record Status - monthly file only for entire data set\n",
    "plt.figure(figsize=(10,5))\n",
    "ax = df[\"Record Status - monthly file only\"].value_counts().plot.barh()\n",
    "ax.set_xlabel(\"Count\", fontsize = 12)\n",
    "ax.set_ylabel(\"Record Status\", fontsize = 12)\n",
    "plt.show();"
   ]
  },
  {
   "cell_type": "code",
   "execution_count": 48,
   "metadata": {
    "execution": {
     "iopub.execute_input": "2022-07-19T05:45:20.866563Z",
     "iopub.status.busy": "2022-07-19T05:45:20.866112Z",
     "iopub.status.idle": "2022-07-19T05:45:22.397128Z",
     "shell.execute_reply": "2022-07-19T05:45:22.396128Z",
     "shell.execute_reply.started": "2022-07-19T05:45:20.866535Z"
    }
   },
   "outputs": [
    {
     "data": {
      "text/plain": [
       "<Figure size 720x360 with 0 Axes>"
      ]
     },
     "metadata": {},
     "output_type": "display_data"
    },
    {
     "data": {
      "image/png": "[encoded data removed]",
      "text/plain": [
       "<Figure size 432x288 with 1 Axes>"
      ]
     },
     "metadata": {
      "needs_background": "light"
     },
     "output_type": "display_data"
    }
   ],
   "source": [
    "# Aggregating prices based on Property Type\n",
    "plt.figure(figsize=(10,5))\n",
    "ax = df_s.groupby(\"Property Type\").agg([\"mean\"]).plot.barh()\n",
    "ax.set_xlabel(\"Avg. Price\", fontsize = 12)\n",
    "ax.set_ylabel(\"Property Type\", fontsize = 12)\n",
    "ax.get_legend().remove()\n",
    "plt.show();"
   ]
  },
  {
   "cell_type": "code",
   "execution_count": 49,
   "metadata": {
    "execution": {
     "iopub.execute_input": "2022-07-19T05:45:22.398994Z",
     "iopub.status.busy": "2022-07-19T05:45:22.398450Z",
     "iopub.status.idle": "2022-07-19T05:45:48.187718Z",
     "shell.execute_reply": "2022-07-19T05:45:48.186372Z",
     "shell.execute_reply.started": "2022-07-19T05:45:22.398951Z"
    }
   },
   "outputs": [
    {
     "data": {
      "text/plain": [
       "<Figure size 720x360 with 0 Axes>"
      ]
     },
     "metadata": {},
     "output_type": "display_data"
    },
    {
     "data": {
      "image/png": "[encoded data removed]",
      "text/plain": [
       "<Figure size 432x288 with 1 Axes>"
      ]
     },
     "metadata": {
      "needs_background": "light"
     },
     "output_type": "display_data"
    }
   ],
   "source": [
    "# Aggregating prices based on Old/New\n",
    "plt.figure(figsize=(10,5))\n",
    "ax = df_s.groupby(\"Old/New\").agg([\"mean\"]).plot.barh()\n",
    "ax.set_xlabel(\"Avg. Price\", fontsize = 12)\n",
    "ax.set_ylabel(\"Old/New\", fontsize = 12)\n",
    "ax.get_legend().remove()\n",
    "plt.show();"
   ]
  },
  {
   "cell_type": "code",
   "execution_count": 50,
   "metadata": {
    "execution": {
     "iopub.execute_input": "2022-07-19T05:45:48.189487Z",
     "iopub.status.busy": "2022-07-19T05:45:48.189169Z",
     "iopub.status.idle": "2022-07-19T05:46:05.936936Z",
     "shell.execute_reply": "2022-07-19T05:46:05.935631Z",
     "shell.execute_reply.started": "2022-07-19T05:45:48.189458Z"
    }
   },
   "outputs": [
    {
     "data": {
      "text/plain": [
       "<Figure size 720x360 with 0 Axes>"
      ]
     },
     "metadata": {},
     "output_type": "display_data"
    },
    {
     "data": {
      "image/png": "[encoded data removed]",
      "text/plain": [
       "<Figure size 432x288 with 1 Axes>"
      ]
     },
     "metadata": {
      "needs_background": "light"
     },
     "output_type": "display_data"
    }
   ],
   "source": [
    "# Aggregating prices based on Duration\n",
    "plt.figure(figsize=(10,5))\n",
    "ax = df_s.groupby(\"Duration\").agg([\"mean\"]).plot.barh()\n",
    "ax.set_xlabel(\"Avg. Price\", fontsize = 12)\n",
    "ax.set_ylabel(\"Duration\", fontsize = 12)\n",
    "ax.get_legend().remove()\n",
    "plt.show();"
   ]
  },
  {
   "cell_type": "code",
   "execution_count": 51,
   "metadata": {
    "execution": {
     "iopub.execute_input": "2022-07-19T05:46:05.938876Z",
     "iopub.status.busy": "2022-07-19T05:46:05.938525Z",
     "iopub.status.idle": "2022-07-19T05:46:06.119164Z",
     "shell.execute_reply": "2022-07-19T05:46:06.118037Z",
     "shell.execute_reply.started": "2022-07-19T05:46:05.938844Z"
    }
   },
   "outputs": [
    {
     "data": {
      "text/html": [
       "<div>\n",
       "<style scoped>\n",
       "    .dataframe tbody tr th:only-of-type {\n",
       "        vertical-align: middle;\n",
       "    }\n",
       "\n",
       "    .dataframe tbody tr th {\n",
       "        vertical-align: top;\n",
       "    }\n",
       "\n",
       "    .dataframe thead th {\n",
       "        text-align: right;\n",
       "    }\n",
       "</style>\n",
       "<table border=\"1\" class=\"dataframe\">\n",
       "  <thead>\n",
       "    <tr style=\"text-align: right;\">\n",
       "      <th></th>\n",
       "      <th>Town/City</th>\n",
       "      <th>Avg. Price</th>\n",
       "    </tr>\n",
       "  </thead>\n",
       "  <tbody>\n",
       "    <tr>\n",
       "      <th>1034</th>\n",
       "      <td>VIRGINIA WATER</td>\n",
       "      <td>865714.285714</td>\n",
       "    </tr>\n",
       "    <tr>\n",
       "      <th>223</th>\n",
       "      <td>CHALFONT ST. GILES</td>\n",
       "      <td>651874.500000</td>\n",
       "    </tr>\n",
       "    <tr>\n",
       "      <th>432</th>\n",
       "      <td>HARTFIELD</td>\n",
       "      <td>595000.000000</td>\n",
       "    </tr>\n",
       "    <tr>\n",
       "      <th>75</th>\n",
       "      <td>BEACONSFIELD</td>\n",
       "      <td>551636.363636</td>\n",
       "    </tr>\n",
       "    <tr>\n",
       "      <th>263</th>\n",
       "      <td>COBHAM</td>\n",
       "      <td>542455.769231</td>\n",
       "    </tr>\n",
       "  </tbody>\n",
       "</table>\n",
       "</div>"
      ],
      "text/plain": [
       "               Town/City     Avg. Price\n",
       "1034      VIRGINIA WATER  865714.285714\n",
       "223   CHALFONT ST. GILES  651874.500000\n",
       "432            HARTFIELD  595000.000000\n",
       "75          BEACONSFIELD  551636.363636\n",
       "263               COBHAM  542455.769231"
      ]
     },
     "execution_count": 51,
     "metadata": {},
     "output_type": "execute_result"
    }
   ],
   "source": [
    "# Creating data frame for Town/City based on average price\n",
    "df_city_p  = pd.DataFrame(df_s.groupby(\"Town/City\").agg([\"mean\"]))\n",
    "\n",
    "# Resetting index to make it a column\n",
    "df_city_p = df_city_p.reset_index()\n",
    "\n",
    "# Giving Columns a proper name\n",
    "df_city_p.columns = [\"Town/City\", \"Avg. Price\"]\n",
    "\n",
    "# Sorting the data frame to choose only top 10\n",
    "df_city_p = df_city_p.sort_values(by = [\"Avg. Price\"], ascending=False).head(10)\n",
    "df_city_p.head()"
   ]
  },
  {
   "cell_type": "code",
   "execution_count": 52,
   "metadata": {
    "execution": {
     "iopub.execute_input": "2022-07-19T05:46:06.120839Z",
     "iopub.status.busy": "2022-07-19T05:46:06.120521Z",
     "iopub.status.idle": "2022-07-19T05:46:06.374421Z",
     "shell.execute_reply": "2022-07-19T05:46:06.373583Z",
     "shell.execute_reply.started": "2022-07-19T05:46:06.120810Z"
    }
   },
   "outputs": [
    {
     "data": {
      "image/png": "[encoded data removed]",
      "text/plain": [
       "<Figure size 1656x576 with 1 Axes>"
      ]
     },
     "metadata": {
      "needs_background": "light"
     },
     "output_type": "display_data"
    }
   ],
   "source": [
    "# Plotting the top 10 cities based on the average price\n",
    "plt.figure(figsize=(23,8))\n",
    "ax = sns.barplot(data = df_city_p, x = \"Town/City\", y = \"Avg. Price\")"
   ]
  },
  {
   "cell_type": "code",
   "execution_count": 53,
   "metadata": {
    "execution": {
     "iopub.execute_input": "2022-07-19T05:46:06.376546Z",
     "iopub.status.busy": "2022-07-19T05:46:06.375926Z",
     "iopub.status.idle": "2022-07-19T05:46:06.421796Z",
     "shell.execute_reply": "2022-07-19T05:46:06.420700Z",
     "shell.execute_reply.started": "2022-07-19T05:46:06.376514Z"
    }
   },
   "outputs": [
    {
     "data": {
      "text/html": [
       "<div>\n",
       "<style scoped>\n",
       "    .dataframe tbody tr th:only-of-type {\n",
       "        vertical-align: middle;\n",
       "    }\n",
       "\n",
       "    .dataframe tbody tr th {\n",
       "        vertical-align: top;\n",
       "    }\n",
       "\n",
       "    .dataframe thead th {\n",
       "        text-align: right;\n",
       "    }\n",
       "</style>\n",
       "<table border=\"1\" class=\"dataframe\">\n",
       "  <thead>\n",
       "    <tr style=\"text-align: right;\">\n",
       "      <th></th>\n",
       "      <th>Transaction unique identifier</th>\n",
       "      <th>Price</th>\n",
       "      <th>Date of Transfer</th>\n",
       "      <th>Property Type</th>\n",
       "      <th>Old/New</th>\n",
       "      <th>Duration</th>\n",
       "      <th>Town/City</th>\n",
       "      <th>District</th>\n",
       "      <th>County</th>\n",
       "      <th>PPDCategory Type</th>\n",
       "      <th>Record Status - monthly file only</th>\n",
       "      <th>Price_bin</th>\n",
       "    </tr>\n",
       "  </thead>\n",
       "  <tbody>\n",
       "    <tr>\n",
       "      <th>3452269</th>\n",
       "      <td>{B8A92D4B-FA46-43D8-97FF-4119BA3352E0}</td>\n",
       "      <td>515000</td>\n",
       "      <td>1998-05-26 00:00</td>\n",
       "      <td>D</td>\n",
       "      <td>N</td>\n",
       "      <td>F</td>\n",
       "      <td>VIRGINIA WATER</td>\n",
       "      <td>RUNNYMEDE</td>\n",
       "      <td>SURREY</td>\n",
       "      <td>A</td>\n",
       "      <td>A</td>\n",
       "      <td>NaN</td>\n",
       "    </tr>\n",
       "    <tr>\n",
       "      <th>20662810</th>\n",
       "      <td>{5C2C7DCB-607D-4A65-94C5-E5ACAC3640F3}</td>\n",
       "      <td>705000</td>\n",
       "      <td>2015-08-19 00:00</td>\n",
       "      <td>S</td>\n",
       "      <td>N</td>\n",
       "      <td>F</td>\n",
       "      <td>VIRGINIA WATER</td>\n",
       "      <td>RUNNYMEDE</td>\n",
       "      <td>SURREY</td>\n",
       "      <td>A</td>\n",
       "      <td>A</td>\n",
       "      <td>NaN</td>\n",
       "    </tr>\n",
       "    <tr>\n",
       "      <th>5552217</th>\n",
       "      <td>{65D4DAA2-B593-4E3C-A555-CF9300070F61}</td>\n",
       "      <td>1900000</td>\n",
       "      <td>2000-06-14 00:00</td>\n",
       "      <td>D</td>\n",
       "      <td>N</td>\n",
       "      <td>F</td>\n",
       "      <td>VIRGINIA WATER</td>\n",
       "      <td>RUNNYMEDE</td>\n",
       "      <td>SURREY</td>\n",
       "      <td>A</td>\n",
       "      <td>A</td>\n",
       "      <td>NaN</td>\n",
       "    </tr>\n",
       "    <tr>\n",
       "      <th>13756386</th>\n",
       "      <td>{EA40077D-9556-46DA-BEF3-95B7911155F8}</td>\n",
       "      <td>3600000</td>\n",
       "      <td>2007-06-26 00:00</td>\n",
       "      <td>D</td>\n",
       "      <td>N</td>\n",
       "      <td>F</td>\n",
       "      <td>VIRGINIA WATER</td>\n",
       "      <td>RUNNYMEDE</td>\n",
       "      <td>SURREY</td>\n",
       "      <td>A</td>\n",
       "      <td>A</td>\n",
       "      <td>NaN</td>\n",
       "    </tr>\n",
       "    <tr>\n",
       "      <th>12617894</th>\n",
       "      <td>{D7933EC4-F43E-443E-A0A7-564884659A87}</td>\n",
       "      <td>180000</td>\n",
       "      <td>2006-04-03 00:00</td>\n",
       "      <td>F</td>\n",
       "      <td>N</td>\n",
       "      <td>L</td>\n",
       "      <td>VIRGINIA WATER</td>\n",
       "      <td>RUNNYMEDE</td>\n",
       "      <td>SURREY</td>\n",
       "      <td>A</td>\n",
       "      <td>A</td>\n",
       "      <td>200000</td>\n",
       "    </tr>\n",
       "    <tr>\n",
       "      <th>17539549</th>\n",
       "      <td>{2DAFECC7-CA5D-4963-9E89-C5D659FE5C23}</td>\n",
       "      <td>250000</td>\n",
       "      <td>2011-02-18 00:00</td>\n",
       "      <td>T</td>\n",
       "      <td>N</td>\n",
       "      <td>F</td>\n",
       "      <td>VIRGINIA WATER</td>\n",
       "      <td>RUNNYMEDE</td>\n",
       "      <td>SURREY</td>\n",
       "      <td>A</td>\n",
       "      <td>A</td>\n",
       "      <td>300000</td>\n",
       "    </tr>\n",
       "    <tr>\n",
       "      <th>10984637</th>\n",
       "      <td>{2A289E9D-8E06-CDC8-E050-A8C063054829}</td>\n",
       "      <td>640000</td>\n",
       "      <td>2004-09-28 00:00</td>\n",
       "      <td>S</td>\n",
       "      <td>N</td>\n",
       "      <td>F</td>\n",
       "      <td>VIRGINIA WATER</td>\n",
       "      <td>RUNNYMEDE</td>\n",
       "      <td>SURREY</td>\n",
       "      <td>A</td>\n",
       "      <td>A</td>\n",
       "      <td>NaN</td>\n",
       "    </tr>\n",
       "    <tr>\n",
       "      <th>12834237</th>\n",
       "      <td>{159F920C-9BAE-41C8-9456-4146236B02C7}</td>\n",
       "      <td>1400000</td>\n",
       "      <td>2006-11-10 00:00</td>\n",
       "      <td>F</td>\n",
       "      <td>N</td>\n",
       "      <td>F</td>\n",
       "      <td>VIRGINIA WATER</td>\n",
       "      <td>RUNNYMEDE</td>\n",
       "      <td>SURREY</td>\n",
       "      <td>A</td>\n",
       "      <td>A</td>\n",
       "      <td>NaN</td>\n",
       "    </tr>\n",
       "    <tr>\n",
       "      <th>12542007</th>\n",
       "      <td>{524A85D0-31AD-485F-A335-3C023556728B}</td>\n",
       "      <td>1100000</td>\n",
       "      <td>2006-07-13 00:00</td>\n",
       "      <td>D</td>\n",
       "      <td>N</td>\n",
       "      <td>F</td>\n",
       "      <td>VIRGINIA WATER</td>\n",
       "      <td>RUNNYMEDE</td>\n",
       "      <td>SURREY</td>\n",
       "      <td>A</td>\n",
       "      <td>A</td>\n",
       "      <td>NaN</td>\n",
       "    </tr>\n",
       "    <tr>\n",
       "      <th>3134374</th>\n",
       "      <td>{7567A225-D46F-419B-B59D-5A744E1FC3D3}</td>\n",
       "      <td>245000</td>\n",
       "      <td>1998-08-14 00:00</td>\n",
       "      <td>F</td>\n",
       "      <td>Y</td>\n",
       "      <td>L</td>\n",
       "      <td>VIRGINIA WATER</td>\n",
       "      <td>RUNNYMEDE</td>\n",
       "      <td>SURREY</td>\n",
       "      <td>A</td>\n",
       "      <td>A</td>\n",
       "      <td>300000</td>\n",
       "    </tr>\n",
       "    <tr>\n",
       "      <th>15789724</th>\n",
       "      <td>{C0B44A35-4808-4163-B982-350FF256BB48}</td>\n",
       "      <td>885000</td>\n",
       "      <td>2009-11-30 00:00</td>\n",
       "      <td>D</td>\n",
       "      <td>N</td>\n",
       "      <td>F</td>\n",
       "      <td>VIRGINIA WATER</td>\n",
       "      <td>RUNNYMEDE</td>\n",
       "      <td>SURREY</td>\n",
       "      <td>A</td>\n",
       "      <td>A</td>\n",
       "      <td>NaN</td>\n",
       "    </tr>\n",
       "    <tr>\n",
       "      <th>4077621</th>\n",
       "      <td>{F59B7D44-4729-48FC-B5CD-8DF3C6C8B31D}</td>\n",
       "      <td>120000</td>\n",
       "      <td>1999-11-03 00:00</td>\n",
       "      <td>S</td>\n",
       "      <td>N</td>\n",
       "      <td>F</td>\n",
       "      <td>VIRGINIA WATER</td>\n",
       "      <td>RUNNYMEDE</td>\n",
       "      <td>SURREY</td>\n",
       "      <td>A</td>\n",
       "      <td>A</td>\n",
       "      <td>200000</td>\n",
       "    </tr>\n",
       "    <tr>\n",
       "      <th>18974673</th>\n",
       "      <td>{58CCCBEC-4570-4E30-802F-8FF6B36439AF}</td>\n",
       "      <td>280000</td>\n",
       "      <td>2013-10-15 00:00</td>\n",
       "      <td>F</td>\n",
       "      <td>N</td>\n",
       "      <td>L</td>\n",
       "      <td>VIRGINIA WATER</td>\n",
       "      <td>RUNNYMEDE</td>\n",
       "      <td>SURREY</td>\n",
       "      <td>A</td>\n",
       "      <td>A</td>\n",
       "      <td>300000</td>\n",
       "    </tr>\n",
       "    <tr>\n",
       "      <th>6878155</th>\n",
       "      <td>{CBCDD5C4-3181-41ED-A49C-F5DC475CEE98}</td>\n",
       "      <td>300000</td>\n",
       "      <td>2001-12-20 00:00</td>\n",
       "      <td>F</td>\n",
       "      <td>N</td>\n",
       "      <td>L</td>\n",
       "      <td>VIRGINIA WATER</td>\n",
       "      <td>RUNNYMEDE</td>\n",
       "      <td>SURREY</td>\n",
       "      <td>A</td>\n",
       "      <td>A</td>\n",
       "      <td>300000</td>\n",
       "    </tr>\n",
       "  </tbody>\n",
       "</table>\n",
       "</div>"
      ],
      "text/plain": [
       "                   Transaction unique identifier    Price  Date of Transfer  \\\n",
       "3452269   {B8A92D4B-FA46-43D8-97FF-4119BA3352E0}   515000  1998-05-26 00:00   \n",
       "20662810  {5C2C7DCB-607D-4A65-94C5-E5ACAC3640F3}   705000  2015-08-19 00:00   \n",
       "5552217   {65D4DAA2-B593-4E3C-A555-CF9300070F61}  1900000  2000-06-14 00:00   \n",
       "13756386  {EA40077D-9556-46DA-BEF3-95B7911155F8}  3600000  2007-06-26 00:00   \n",
       "12617894  {D7933EC4-F43E-443E-A0A7-564884659A87}   180000  2006-04-03 00:00   \n",
       "17539549  {2DAFECC7-CA5D-4963-9E89-C5D659FE5C23}   250000  2011-02-18 00:00   \n",
       "10984637  {2A289E9D-8E06-CDC8-E050-A8C063054829}   640000  2004-09-28 00:00   \n",
       "12834237  {159F920C-9BAE-41C8-9456-4146236B02C7}  1400000  2006-11-10 00:00   \n",
       "12542007  {524A85D0-31AD-485F-A335-3C023556728B}  1100000  2006-07-13 00:00   \n",
       "3134374   {7567A225-D46F-419B-B59D-5A744E1FC3D3}   245000  1998-08-14 00:00   \n",
       "15789724  {C0B44A35-4808-4163-B982-350FF256BB48}   885000  2009-11-30 00:00   \n",
       "4077621   {F59B7D44-4729-48FC-B5CD-8DF3C6C8B31D}   120000  1999-11-03 00:00   \n",
       "18974673  {58CCCBEC-4570-4E30-802F-8FF6B36439AF}   280000  2013-10-15 00:00   \n",
       "6878155   {CBCDD5C4-3181-41ED-A49C-F5DC475CEE98}   300000  2001-12-20 00:00   \n",
       "\n",
       "         Property Type Old/New Duration       Town/City   District  County  \\\n",
       "3452269              D       N        F  VIRGINIA WATER  RUNNYMEDE  SURREY   \n",
       "20662810             S       N        F  VIRGINIA WATER  RUNNYMEDE  SURREY   \n",
       "5552217              D       N        F  VIRGINIA WATER  RUNNYMEDE  SURREY   \n",
       "13756386             D       N        F  VIRGINIA WATER  RUNNYMEDE  SURREY   \n",
       "12617894             F       N        L  VIRGINIA WATER  RUNNYMEDE  SURREY   \n",
       "17539549             T       N        F  VIRGINIA WATER  RUNNYMEDE  SURREY   \n",
       "10984637             S       N        F  VIRGINIA WATER  RUNNYMEDE  SURREY   \n",
       "12834237             F       N        F  VIRGINIA WATER  RUNNYMEDE  SURREY   \n",
       "12542007             D       N        F  VIRGINIA WATER  RUNNYMEDE  SURREY   \n",
       "3134374              F       Y        L  VIRGINIA WATER  RUNNYMEDE  SURREY   \n",
       "15789724             D       N        F  VIRGINIA WATER  RUNNYMEDE  SURREY   \n",
       "4077621              S       N        F  VIRGINIA WATER  RUNNYMEDE  SURREY   \n",
       "18974673             F       N        L  VIRGINIA WATER  RUNNYMEDE  SURREY   \n",
       "6878155              F       N        L  VIRGINIA WATER  RUNNYMEDE  SURREY   \n",
       "\n",
       "         PPDCategory Type Record Status - monthly file only Price_bin  \n",
       "3452269                 A                                 A       NaN  \n",
       "20662810                A                                 A       NaN  \n",
       "5552217                 A                                 A       NaN  \n",
       "13756386                A                                 A       NaN  \n",
       "12617894                A                                 A    200000  \n",
       "17539549                A                                 A    300000  \n",
       "10984637                A                                 A       NaN  \n",
       "12834237                A                                 A       NaN  \n",
       "12542007                A                                 A       NaN  \n",
       "3134374                 A                                 A    300000  \n",
       "15789724                A                                 A       NaN  \n",
       "4077621                 A                                 A    200000  \n",
       "18974673                A                                 A    300000  \n",
       "6878155                 A                                 A    300000  "
      ]
     },
     "execution_count": 53,
     "metadata": {},
     "output_type": "execute_result"
    }
   ],
   "source": [
    "# Number of rows associated with VIRGINIA WATER\n",
    "df_s[df_s[\"Town/City\"] == \"VIRGINIA WATER\"]"
   ]
  },
  {
   "cell_type": "code",
   "execution_count": 54,
   "metadata": {
    "execution": {
     "iopub.execute_input": "2022-07-19T05:46:06.423795Z",
     "iopub.status.busy": "2022-07-19T05:46:06.423435Z",
     "iopub.status.idle": "2022-07-19T05:46:06.611793Z",
     "shell.execute_reply": "2022-07-19T05:46:06.610227Z",
     "shell.execute_reply.started": "2022-07-19T05:46:06.423762Z"
    }
   },
   "outputs": [
    {
     "data": {
      "text/html": [
       "<div>\n",
       "<style scoped>\n",
       "    .dataframe tbody tr th:only-of-type {\n",
       "        vertical-align: middle;\n",
       "    }\n",
       "\n",
       "    .dataframe tbody tr th {\n",
       "        vertical-align: top;\n",
       "    }\n",
       "\n",
       "    .dataframe thead th {\n",
       "        text-align: right;\n",
       "    }\n",
       "</style>\n",
       "<table border=\"1\" class=\"dataframe\">\n",
       "  <thead>\n",
       "    <tr style=\"text-align: right;\">\n",
       "      <th></th>\n",
       "      <th>Town/City</th>\n",
       "      <th>Avg. Price</th>\n",
       "    </tr>\n",
       "  </thead>\n",
       "  <tbody>\n",
       "    <tr>\n",
       "      <th>40</th>\n",
       "      <td>LONDON</td>\n",
       "      <td>366204.759063</td>\n",
       "    </tr>\n",
       "  </tbody>\n",
       "</table>\n",
       "</div>"
      ],
      "text/plain": [
       "   Town/City     Avg. Price\n",
       "40    LONDON  366204.759063"
      ]
     },
     "execution_count": 54,
     "metadata": {},
     "output_type": "execute_result"
    }
   ],
   "source": [
    "# Creating data frame for Town/City based on average price\n",
    "df_city_p  = pd.DataFrame(df_s.groupby(\"Town/City\").agg([\"mean\"]))\n",
    "\n",
    "# Resetting index to make it a column\n",
    "df_city_p = df_city_p.reset_index()\n",
    "\n",
    "# Giving Columns a proper name\n",
    "df_city_p.columns = [\"Town/City\", \"Avg. Price\"]\n",
    "\n",
    "# Sorting the values\n",
    "df_city_p = df_city_p.sort_values(by = [\"Avg. Price\"], ascending=False)\n",
    "\n",
    "# Resetting index again to get the rank\n",
    "df_city_p = df_city_p.reset_index()\n",
    "df_city_p.pop(\"index\")\n",
    "\n",
    "# Looking at London\n",
    "df_city_p[df_city_p[\"Town/City\"] == \"LONDON\"]"
   ]
  },
  {
   "cell_type": "code",
   "execution_count": 55,
   "metadata": {
    "execution": {
     "iopub.execute_input": "2022-07-19T05:46:06.613609Z",
     "iopub.status.busy": "2022-07-19T05:46:06.613228Z",
     "iopub.status.idle": "2022-07-19T05:46:06.794449Z",
     "shell.execute_reply": "2022-07-19T05:46:06.793544Z",
     "shell.execute_reply.started": "2022-07-19T05:46:06.613579Z"
    }
   },
   "outputs": [
    {
     "data": {
      "text/html": [
       "<div>\n",
       "<style scoped>\n",
       "    .dataframe tbody tr th:only-of-type {\n",
       "        vertical-align: middle;\n",
       "    }\n",
       "\n",
       "    .dataframe tbody tr th {\n",
       "        vertical-align: top;\n",
       "    }\n",
       "\n",
       "    .dataframe thead th {\n",
       "        text-align: right;\n",
       "    }\n",
       "</style>\n",
       "<table border=\"1\" class=\"dataframe\">\n",
       "  <thead>\n",
       "    <tr style=\"text-align: right;\">\n",
       "      <th></th>\n",
       "      <th>District</th>\n",
       "      <th>Avg. Price</th>\n",
       "    </tr>\n",
       "  </thead>\n",
       "  <tbody>\n",
       "    <tr>\n",
       "      <th>0</th>\n",
       "      <td>KENSINGTON AND CHELSEA</td>\n",
       "      <td>1.002340e+06</td>\n",
       "    </tr>\n",
       "    <tr>\n",
       "      <th>1</th>\n",
       "      <td>CITY OF WESTMINSTER</td>\n",
       "      <td>7.610538e+05</td>\n",
       "    </tr>\n",
       "    <tr>\n",
       "      <th>2</th>\n",
       "      <td>HAMMERSMITH AND FULHAM</td>\n",
       "      <td>4.756775e+05</td>\n",
       "    </tr>\n",
       "    <tr>\n",
       "      <th>3</th>\n",
       "      <td>CAMDEN</td>\n",
       "      <td>4.501825e+05</td>\n",
       "    </tr>\n",
       "    <tr>\n",
       "      <th>4</th>\n",
       "      <td>RICHMOND UPON THAMES</td>\n",
       "      <td>4.356894e+05</td>\n",
       "    </tr>\n",
       "  </tbody>\n",
       "</table>\n",
       "</div>"
      ],
      "text/plain": [
       "                 District    Avg. Price\n",
       "0  KENSINGTON AND CHELSEA  1.002340e+06\n",
       "1     CITY OF WESTMINSTER  7.610538e+05\n",
       "2  HAMMERSMITH AND FULHAM  4.756775e+05\n",
       "3                  CAMDEN  4.501825e+05\n",
       "4    RICHMOND UPON THAMES  4.356894e+05"
      ]
     },
     "execution_count": 55,
     "metadata": {},
     "output_type": "execute_result"
    }
   ],
   "source": [
    "# Creating data frame for District based on average price\n",
    "df_district_p  = pd.DataFrame(df_s.groupby(\"District\").agg([\"mean\"]))\n",
    "\n",
    "# Resetting index to make it a column\n",
    "df_district_p = df_district_p.reset_index()\n",
    "\n",
    "# Giving Columns a proper name\n",
    "df_district_p.columns = [\"District\", \"Avg. Price\"]\n",
    "\n",
    "# Sorting the values\n",
    "df_district_p = df_district_p.sort_values(by = [\"Avg. Price\"], ascending=False)\n",
    "\n",
    "# Resetting index again to get the rank\n",
    "df_district_p = df_district_p.reset_index()\n",
    "df_district_p.pop(\"index\")\n",
    "\n",
    "# Fetching top 10\n",
    "df_district_p10 = df_district_p.head(10)\n",
    "df_district_p10.head()"
   ]
  },
  {
   "cell_type": "code",
   "execution_count": 56,
   "metadata": {
    "execution": {
     "iopub.execute_input": "2022-07-19T05:46:06.796350Z",
     "iopub.status.busy": "2022-07-19T05:46:06.795569Z",
     "iopub.status.idle": "2022-07-19T05:46:07.058678Z",
     "shell.execute_reply": "2022-07-19T05:46:07.057584Z",
     "shell.execute_reply.started": "2022-07-19T05:46:06.796318Z"
    }
   },
   "outputs": [
    {
     "data": {
      "image/png": "[encoded data removed]",
      "text/plain": [
       "<Figure size 1800x576 with 1 Axes>"
      ]
     },
     "metadata": {
      "needs_background": "light"
     },
     "output_type": "display_data"
    }
   ],
   "source": [
    "# Plotting the top 10 districts based on the average price\n",
    "plt.figure(figsize=(25,8))\n",
    "ax = sns.barplot(data = df_district_p10, x = \"District\", y = \"Avg. Price\")"
   ]
  },
  {
   "cell_type": "code",
   "execution_count": 57,
   "metadata": {
    "execution": {
     "iopub.execute_input": "2022-07-19T05:46:07.061213Z",
     "iopub.status.busy": "2022-07-19T05:46:07.060808Z",
     "iopub.status.idle": "2022-07-19T05:46:07.092248Z",
     "shell.execute_reply": "2022-07-19T05:46:07.090835Z",
     "shell.execute_reply.started": "2022-07-19T05:46:07.061181Z"
    }
   },
   "outputs": [
    {
     "data": {
      "text/plain": [
       "371"
      ]
     },
     "execution_count": 57,
     "metadata": {},
     "output_type": "execute_result"
    }
   ],
   "source": [
    "len(df_s[df_s[\"District\"] == \"KENSINGTON AND CHELSEA\"])"
   ]
  },
  {
   "cell_type": "code",
   "execution_count": 58,
   "metadata": {
    "execution": {
     "iopub.execute_input": "2022-07-19T05:46:07.095063Z",
     "iopub.status.busy": "2022-07-19T05:46:07.094202Z",
     "iopub.status.idle": "2022-07-19T05:46:07.273582Z",
     "shell.execute_reply": "2022-07-19T05:46:07.272461Z",
     "shell.execute_reply.started": "2022-07-19T05:46:07.095008Z"
    }
   },
   "outputs": [
    {
     "data": {
      "text/html": [
       "<div>\n",
       "<style scoped>\n",
       "    .dataframe tbody tr th:only-of-type {\n",
       "        vertical-align: middle;\n",
       "    }\n",
       "\n",
       "    .dataframe tbody tr th {\n",
       "        vertical-align: top;\n",
       "    }\n",
       "\n",
       "    .dataframe thead th {\n",
       "        text-align: right;\n",
       "    }\n",
       "</style>\n",
       "<table border=\"1\" class=\"dataframe\">\n",
       "  <thead>\n",
       "    <tr style=\"text-align: right;\">\n",
       "      <th></th>\n",
       "      <th>County</th>\n",
       "      <th>Avg. Price</th>\n",
       "    </tr>\n",
       "  </thead>\n",
       "  <tbody>\n",
       "    <tr>\n",
       "      <th>0</th>\n",
       "      <td>WINDSOR AND MAIDENHEAD</td>\n",
       "      <td>320120.126761</td>\n",
       "    </tr>\n",
       "    <tr>\n",
       "      <th>1</th>\n",
       "      <td>GREATER LONDON</td>\n",
       "      <td>310207.199985</td>\n",
       "    </tr>\n",
       "    <tr>\n",
       "      <th>2</th>\n",
       "      <td>CHESHIRE WEST AND CHESTER</td>\n",
       "      <td>299109.780749</td>\n",
       "    </tr>\n",
       "    <tr>\n",
       "      <th>3</th>\n",
       "      <td>SURREY</td>\n",
       "      <td>288747.597907</td>\n",
       "    </tr>\n",
       "    <tr>\n",
       "      <th>4</th>\n",
       "      <td>BUCKINGHAMSHIRE</td>\n",
       "      <td>262670.319672</td>\n",
       "    </tr>\n",
       "  </tbody>\n",
       "</table>\n",
       "</div>"
      ],
      "text/plain": [
       "                      County     Avg. Price\n",
       "0     WINDSOR AND MAIDENHEAD  320120.126761\n",
       "1             GREATER LONDON  310207.199985\n",
       "2  CHESHIRE WEST AND CHESTER  299109.780749\n",
       "3                     SURREY  288747.597907\n",
       "4            BUCKINGHAMSHIRE  262670.319672"
      ]
     },
     "execution_count": 58,
     "metadata": {},
     "output_type": "execute_result"
    }
   ],
   "source": [
    "# Creating data frame for county based on average price\n",
    "df_county_p  = pd.DataFrame(df_s.groupby(\"County\").agg([\"mean\"]))\n",
    "\n",
    "# Resetting index to make it a column\n",
    "df_county_p = df_county_p.reset_index()\n",
    "\n",
    "# Giving Columns a proper name\n",
    "df_county_p.columns = [\"County\", \"Avg. Price\"]\n",
    "\n",
    "# Sorting the values\n",
    "df_county_p = df_county_p.sort_values(by = [\"Avg. Price\"], ascending=False)\n",
    "\n",
    "# Resetting index again to get the rank\n",
    "df_county_p = df_county_p.reset_index()\n",
    "df_county_p.pop(\"index\")\n",
    "\n",
    "# Fetching top 10\n",
    "df_county_p10 = df_county_p.head(10)\n",
    "df_county_p10.head()"
   ]
  },
  {
   "cell_type": "code",
   "execution_count": 59,
   "metadata": {
    "execution": {
     "iopub.execute_input": "2022-07-19T05:46:07.275098Z",
     "iopub.status.busy": "2022-07-19T05:46:07.274752Z",
     "iopub.status.idle": "2022-07-19T05:46:37.635659Z",
     "shell.execute_reply": "2022-07-19T05:46:37.634569Z",
     "shell.execute_reply.started": "2022-07-19T05:46:07.275065Z"
    }
   },
   "outputs": [
    {
     "data": {
      "text/plain": [
       "<Figure size 720x360 with 0 Axes>"
      ]
     },
     "metadata": {},
     "output_type": "display_data"
    },
    {
     "data": {
      "image/png": "[encoded data removed]",
      "text/plain": [
       "<Figure size 432x288 with 1 Axes>"
      ]
     },
     "metadata": {
      "needs_background": "light"
     },
     "output_type": "display_data"
    }
   ],
   "source": [
    "# Aggregating prices based on PPDCategory Type\n",
    "plt.figure(figsize=(10,5))\n",
    "ax = df_s.groupby(\"PPDCategory Type\").agg([\"mean\"]).plot.barh()\n",
    "ax.set_xlabel(\"Avg. Price\", fontsize = 12)\n",
    "ax.set_ylabel(\"PPDCategory Type\", fontsize = 12)\n",
    "ax.get_legend().remove()\n",
    "plt.show();"
   ]
  },
  {
   "cell_type": "code",
   "execution_count": 60,
   "metadata": {
    "execution": {
     "iopub.execute_input": "2022-07-19T05:46:37.638137Z",
     "iopub.status.busy": "2022-07-19T05:46:37.637124Z",
     "iopub.status.idle": "2022-07-19T05:46:37.656119Z",
     "shell.execute_reply": "2022-07-19T05:46:37.655045Z",
     "shell.execute_reply.started": "2022-07-19T05:46:37.638099Z"
    }
   },
   "outputs": [
    {
     "data": {
      "text/html": [
       "<div>\n",
       "<style scoped>\n",
       "    .dataframe tbody tr th:only-of-type {\n",
       "        vertical-align: middle;\n",
       "    }\n",
       "\n",
       "    .dataframe tbody tr th {\n",
       "        vertical-align: top;\n",
       "    }\n",
       "\n",
       "    .dataframe thead th {\n",
       "        text-align: right;\n",
       "    }\n",
       "</style>\n",
       "<table border=\"1\" class=\"dataframe\">\n",
       "  <thead>\n",
       "    <tr style=\"text-align: right;\">\n",
       "      <th></th>\n",
       "      <th>Transaction unique identifier</th>\n",
       "      <th>Price</th>\n",
       "      <th>Date of Transfer</th>\n",
       "      <th>Property Type</th>\n",
       "      <th>Old/New</th>\n",
       "      <th>Duration</th>\n",
       "      <th>Town/City</th>\n",
       "      <th>District</th>\n",
       "      <th>County</th>\n",
       "      <th>PPDCategory Type</th>\n",
       "      <th>Record Status - monthly file only</th>\n",
       "      <th>Price_bin</th>\n",
       "    </tr>\n",
       "  </thead>\n",
       "  <tbody>\n",
       "    <tr>\n",
       "      <th>7783052</th>\n",
       "      <td>{05174041-D9C9-4589-8DC8-54391C2B0DE8}</td>\n",
       "      <td>114000</td>\n",
       "      <td>2002-04-08 00:00</td>\n",
       "      <td>S</td>\n",
       "      <td>N</td>\n",
       "      <td>F</td>\n",
       "      <td>EXETER</td>\n",
       "      <td>EXETER</td>\n",
       "      <td>DEVON</td>\n",
       "      <td>A</td>\n",
       "      <td>A</td>\n",
       "      <td>200000</td>\n",
       "    </tr>\n",
       "    <tr>\n",
       "      <th>6507038</th>\n",
       "      <td>{B0C042EA-A3ED-4D08-9839-238626A54780}</td>\n",
       "      <td>76000</td>\n",
       "      <td>2001-04-09 00:00</td>\n",
       "      <td>S</td>\n",
       "      <td>N</td>\n",
       "      <td>L</td>\n",
       "      <td>BOLTON</td>\n",
       "      <td>BOLTON</td>\n",
       "      <td>GREATER MANCHESTER</td>\n",
       "      <td>A</td>\n",
       "      <td>A</td>\n",
       "      <td>100000</td>\n",
       "    </tr>\n",
       "    <tr>\n",
       "      <th>13016861</th>\n",
       "      <td>{699EC06C-4140-47A0-89B9-4E638BDB6F64}</td>\n",
       "      <td>124950</td>\n",
       "      <td>2006-11-08 00:00</td>\n",
       "      <td>S</td>\n",
       "      <td>N</td>\n",
       "      <td>F</td>\n",
       "      <td>BLACKPOOL</td>\n",
       "      <td>BLACKPOOL</td>\n",
       "      <td>BLACKPOOL</td>\n",
       "      <td>A</td>\n",
       "      <td>A</td>\n",
       "      <td>200000</td>\n",
       "    </tr>\n",
       "    <tr>\n",
       "      <th>18584945</th>\n",
       "      <td>{20FC5634-C854-43CC-9A27-88326B9A2F61}</td>\n",
       "      <td>73500</td>\n",
       "      <td>2013-10-23 00:00</td>\n",
       "      <td>T</td>\n",
       "      <td>N</td>\n",
       "      <td>F</td>\n",
       "      <td>SOWERBY BRIDGE</td>\n",
       "      <td>CALDERDALE</td>\n",
       "      <td>WEST YORKSHIRE</td>\n",
       "      <td>A</td>\n",
       "      <td>A</td>\n",
       "      <td>100000</td>\n",
       "    </tr>\n",
       "    <tr>\n",
       "      <th>12853901</th>\n",
       "      <td>{9D057686-B984-4737-B1AC-1E8B6889A6BD}</td>\n",
       "      <td>28500</td>\n",
       "      <td>2006-08-21 00:00</td>\n",
       "      <td>F</td>\n",
       "      <td>Y</td>\n",
       "      <td>L</td>\n",
       "      <td>CHESTERFIELD</td>\n",
       "      <td>CHESTERFIELD</td>\n",
       "      <td>DERBYSHIRE</td>\n",
       "      <td>A</td>\n",
       "      <td>A</td>\n",
       "      <td>100000</td>\n",
       "    </tr>\n",
       "  </tbody>\n",
       "</table>\n",
       "</div>"
      ],
      "text/plain": [
       "                   Transaction unique identifier   Price  Date of Transfer  \\\n",
       "7783052   {05174041-D9C9-4589-8DC8-54391C2B0DE8}  114000  2002-04-08 00:00   \n",
       "6507038   {B0C042EA-A3ED-4D08-9839-238626A54780}   76000  2001-04-09 00:00   \n",
       "13016861  {699EC06C-4140-47A0-89B9-4E638BDB6F64}  124950  2006-11-08 00:00   \n",
       "18584945  {20FC5634-C854-43CC-9A27-88326B9A2F61}   73500  2013-10-23 00:00   \n",
       "12853901  {9D057686-B984-4737-B1AC-1E8B6889A6BD}   28500  2006-08-21 00:00   \n",
       "\n",
       "         Property Type Old/New Duration       Town/City      District  \\\n",
       "7783052              S       N        F          EXETER        EXETER   \n",
       "6507038              S       N        L          BOLTON        BOLTON   \n",
       "13016861             S       N        F       BLACKPOOL     BLACKPOOL   \n",
       "18584945             T       N        F  SOWERBY BRIDGE    CALDERDALE   \n",
       "12853901             F       Y        L    CHESTERFIELD  CHESTERFIELD   \n",
       "\n",
       "                      County PPDCategory Type  \\\n",
       "7783052                DEVON                A   \n",
       "6507038   GREATER MANCHESTER                A   \n",
       "13016861           BLACKPOOL                A   \n",
       "18584945      WEST YORKSHIRE                A   \n",
       "12853901          DERBYSHIRE                A   \n",
       "\n",
       "         Record Status - monthly file only Price_bin  \n",
       "7783052                                  A    200000  \n",
       "6507038                                  A    100000  \n",
       "13016861                                 A    200000  \n",
       "18584945                                 A    100000  \n",
       "12853901                                 A    100000  "
      ]
     },
     "execution_count": 60,
     "metadata": {},
     "output_type": "execute_result"
    }
   ],
   "source": [
    "df_s.head()"
   ]
  },
  {
   "cell_type": "code",
   "execution_count": 61,
   "metadata": {
    "execution": {
     "iopub.execute_input": "2022-07-19T05:46:37.657813Z",
     "iopub.status.busy": "2022-07-19T05:46:37.657479Z",
     "iopub.status.idle": "2022-07-19T05:46:37.679330Z",
     "shell.execute_reply": "2022-07-19T05:46:37.678301Z",
     "shell.execute_reply.started": "2022-07-19T05:46:37.657782Z"
    }
   },
   "outputs": [
    {
     "data": {
      "text/html": [
       "<div>\n",
       "<style scoped>\n",
       "    .dataframe tbody tr th:only-of-type {\n",
       "        vertical-align: middle;\n",
       "    }\n",
       "\n",
       "    .dataframe tbody tr th {\n",
       "        vertical-align: top;\n",
       "    }\n",
       "\n",
       "    .dataframe thead th {\n",
       "        text-align: right;\n",
       "    }\n",
       "</style>\n",
       "<table border=\"1\" class=\"dataframe\">\n",
       "  <thead>\n",
       "    <tr style=\"text-align: right;\">\n",
       "      <th></th>\n",
       "      <th>Price</th>\n",
       "      <th>Property Type</th>\n",
       "      <th>Old/New</th>\n",
       "      <th>Duration</th>\n",
       "      <th>PPDCategory Type</th>\n",
       "    </tr>\n",
       "  </thead>\n",
       "  <tbody>\n",
       "    <tr>\n",
       "      <th>7783052</th>\n",
       "      <td>114000</td>\n",
       "      <td>S</td>\n",
       "      <td>N</td>\n",
       "      <td>F</td>\n",
       "      <td>A</td>\n",
       "    </tr>\n",
       "    <tr>\n",
       "      <th>6507038</th>\n",
       "      <td>76000</td>\n",
       "      <td>S</td>\n",
       "      <td>N</td>\n",
       "      <td>L</td>\n",
       "      <td>A</td>\n",
       "    </tr>\n",
       "    <tr>\n",
       "      <th>13016861</th>\n",
       "      <td>124950</td>\n",
       "      <td>S</td>\n",
       "      <td>N</td>\n",
       "      <td>F</td>\n",
       "      <td>A</td>\n",
       "    </tr>\n",
       "    <tr>\n",
       "      <th>18584945</th>\n",
       "      <td>73500</td>\n",
       "      <td>T</td>\n",
       "      <td>N</td>\n",
       "      <td>F</td>\n",
       "      <td>A</td>\n",
       "    </tr>\n",
       "    <tr>\n",
       "      <th>12853901</th>\n",
       "      <td>28500</td>\n",
       "      <td>F</td>\n",
       "      <td>Y</td>\n",
       "      <td>L</td>\n",
       "      <td>A</td>\n",
       "    </tr>\n",
       "  </tbody>\n",
       "</table>\n",
       "</div>"
      ],
      "text/plain": [
       "           Price Property Type Old/New Duration PPDCategory Type\n",
       "7783052   114000             S       N        F                A\n",
       "6507038    76000             S       N        L                A\n",
       "13016861  124950             S       N        F                A\n",
       "18584945   73500             T       N        F                A\n",
       "12853901   28500             F       Y        L                A"
      ]
     },
     "execution_count": 61,
     "metadata": {},
     "output_type": "execute_result"
    }
   ],
   "source": [
    "# Dropping the columns which are not needed\n",
    "df_s.drop([\"Transaction unique identifier\", \"Date of Transfer\", \"Town/City\", \"District\", \"County\", \"Record Status - monthly file only\", \"Price_bin\"],\n",
    "          axis = 1,\n",
    "          inplace = True)\n",
    "df_s.head()"
   ]
  },
  {
   "cell_type": "code",
   "execution_count": 62,
   "metadata": {
    "execution": {
     "iopub.execute_input": "2022-07-19T05:46:37.682609Z",
     "iopub.status.busy": "2022-07-19T05:46:37.682092Z",
     "iopub.status.idle": "2022-07-19T05:46:37.701648Z",
     "shell.execute_reply": "2022-07-19T05:46:37.700756Z",
     "shell.execute_reply.started": "2022-07-19T05:46:37.682551Z"
    }
   },
   "outputs": [
    {
     "data": {
      "text/html": [
       "<div>\n",
       "<style scoped>\n",
       "    .dataframe tbody tr th:only-of-type {\n",
       "        vertical-align: middle;\n",
       "    }\n",
       "\n",
       "    .dataframe tbody tr th {\n",
       "        vertical-align: top;\n",
       "    }\n",
       "\n",
       "    .dataframe thead th {\n",
       "        text-align: right;\n",
       "    }\n",
       "</style>\n",
       "<table border=\"1\" class=\"dataframe\">\n",
       "  <thead>\n",
       "    <tr style=\"text-align: right;\">\n",
       "      <th></th>\n",
       "      <th>Price</th>\n",
       "      <th>Property Type</th>\n",
       "      <th>Old/New</th>\n",
       "      <th>Duration</th>\n",
       "      <th>PPDCategory Type</th>\n",
       "    </tr>\n",
       "  </thead>\n",
       "  <tbody>\n",
       "    <tr>\n",
       "      <th>0</th>\n",
       "      <td>114000</td>\n",
       "      <td>S</td>\n",
       "      <td>N</td>\n",
       "      <td>F</td>\n",
       "      <td>A</td>\n",
       "    </tr>\n",
       "    <tr>\n",
       "      <th>1</th>\n",
       "      <td>76000</td>\n",
       "      <td>S</td>\n",
       "      <td>N</td>\n",
       "      <td>L</td>\n",
       "      <td>A</td>\n",
       "    </tr>\n",
       "    <tr>\n",
       "      <th>2</th>\n",
       "      <td>124950</td>\n",
       "      <td>S</td>\n",
       "      <td>N</td>\n",
       "      <td>F</td>\n",
       "      <td>A</td>\n",
       "    </tr>\n",
       "    <tr>\n",
       "      <th>3</th>\n",
       "      <td>73500</td>\n",
       "      <td>T</td>\n",
       "      <td>N</td>\n",
       "      <td>F</td>\n",
       "      <td>A</td>\n",
       "    </tr>\n",
       "    <tr>\n",
       "      <th>4</th>\n",
       "      <td>28500</td>\n",
       "      <td>F</td>\n",
       "      <td>Y</td>\n",
       "      <td>L</td>\n",
       "      <td>A</td>\n",
       "    </tr>\n",
       "  </tbody>\n",
       "</table>\n",
       "</div>"
      ],
      "text/plain": [
       "    Price Property Type Old/New Duration PPDCategory Type\n",
       "0  114000             S       N        F                A\n",
       "1   76000             S       N        L                A\n",
       "2  124950             S       N        F                A\n",
       "3   73500             T       N        F                A\n",
       "4   28500             F       Y        L                A"
      ]
     },
     "execution_count": 62,
     "metadata": {},
     "output_type": "execute_result"
    }
   ],
   "source": [
    "# Resetting the index\n",
    "df_s = df_s.reset_index()\n",
    "df_s.pop(\"index\")\n",
    "df_s.head()"
   ]
  },
  {
   "cell_type": "code",
   "execution_count": 63,
   "metadata": {
    "execution": {
     "iopub.execute_input": "2022-07-19T05:46:37.703623Z",
     "iopub.status.busy": "2022-07-19T05:46:37.703066Z",
     "iopub.status.idle": "2022-07-19T05:46:37.780053Z",
     "shell.execute_reply": "2022-07-19T05:46:37.778718Z",
     "shell.execute_reply.started": "2022-07-19T05:46:37.703590Z"
    }
   },
   "outputs": [
    {
     "data": {
      "text/html": [
       "<div>\n",
       "<style scoped>\n",
       "    .dataframe tbody tr th:only-of-type {\n",
       "        vertical-align: middle;\n",
       "    }\n",
       "\n",
       "    .dataframe tbody tr th {\n",
       "        vertical-align: top;\n",
       "    }\n",
       "\n",
       "    .dataframe thead th {\n",
       "        text-align: right;\n",
       "    }\n",
       "</style>\n",
       "<table border=\"1\" class=\"dataframe\">\n",
       "  <thead>\n",
       "    <tr style=\"text-align: right;\">\n",
       "      <th></th>\n",
       "      <th>Price</th>\n",
       "      <th>Property Type</th>\n",
       "      <th>Old/New</th>\n",
       "      <th>Duration</th>\n",
       "      <th>PPDCategory Type</th>\n",
       "    </tr>\n",
       "  </thead>\n",
       "  <tbody>\n",
       "    <tr>\n",
       "      <th>0</th>\n",
       "      <td>114000</td>\n",
       "      <td>S</td>\n",
       "      <td>0</td>\n",
       "      <td>F</td>\n",
       "      <td>A</td>\n",
       "    </tr>\n",
       "    <tr>\n",
       "      <th>1</th>\n",
       "      <td>76000</td>\n",
       "      <td>S</td>\n",
       "      <td>0</td>\n",
       "      <td>L</td>\n",
       "      <td>A</td>\n",
       "    </tr>\n",
       "    <tr>\n",
       "      <th>2</th>\n",
       "      <td>124950</td>\n",
       "      <td>S</td>\n",
       "      <td>0</td>\n",
       "      <td>F</td>\n",
       "      <td>A</td>\n",
       "    </tr>\n",
       "    <tr>\n",
       "      <th>3</th>\n",
       "      <td>73500</td>\n",
       "      <td>T</td>\n",
       "      <td>0</td>\n",
       "      <td>F</td>\n",
       "      <td>A</td>\n",
       "    </tr>\n",
       "    <tr>\n",
       "      <th>4</th>\n",
       "      <td>28500</td>\n",
       "      <td>F</td>\n",
       "      <td>1</td>\n",
       "      <td>L</td>\n",
       "      <td>A</td>\n",
       "    </tr>\n",
       "  </tbody>\n",
       "</table>\n",
       "</div>"
      ],
      "text/plain": [
       "    Price Property Type  Old/New Duration PPDCategory Type\n",
       "0  114000             S        0        F                A\n",
       "1   76000             S        0        L                A\n",
       "2  124950             S        0        F                A\n",
       "3   73500             T        0        F                A\n",
       "4   28500             F        1        L                A"
      ]
     },
     "execution_count": 63,
     "metadata": {},
     "output_type": "execute_result"
    }
   ],
   "source": [
    "# Converting \"Old/New\" to numerical\n",
    "df_s[\"Old/New\"] = df_s[\"Old/New\"].map(lambda x: 1 if x == \"Y\" else 0)\n",
    "df_s.head()"
   ]
  },
  {
   "cell_type": "code",
   "execution_count": 64,
   "metadata": {
    "execution": {
     "iopub.execute_input": "2022-07-19T05:46:37.783140Z",
     "iopub.status.busy": "2022-07-19T05:46:37.782285Z",
     "iopub.status.idle": "2022-07-19T05:46:37.861287Z",
     "shell.execute_reply": "2022-07-19T05:46:37.860029Z",
     "shell.execute_reply.started": "2022-07-19T05:46:37.783091Z"
    }
   },
   "outputs": [
    {
     "data": {
      "text/html": [
       "<div>\n",
       "<style scoped>\n",
       "    .dataframe tbody tr th:only-of-type {\n",
       "        vertical-align: middle;\n",
       "    }\n",
       "\n",
       "    .dataframe tbody tr th {\n",
       "        vertical-align: top;\n",
       "    }\n",
       "\n",
       "    .dataframe thead th {\n",
       "        text-align: right;\n",
       "    }\n",
       "</style>\n",
       "<table border=\"1\" class=\"dataframe\">\n",
       "  <thead>\n",
       "    <tr style=\"text-align: right;\">\n",
       "      <th></th>\n",
       "      <th>Price</th>\n",
       "      <th>Property Type</th>\n",
       "      <th>Old/New</th>\n",
       "      <th>Duration</th>\n",
       "      <th>PPDCategory Type</th>\n",
       "    </tr>\n",
       "  </thead>\n",
       "  <tbody>\n",
       "    <tr>\n",
       "      <th>0</th>\n",
       "      <td>114000</td>\n",
       "      <td>S</td>\n",
       "      <td>0</td>\n",
       "      <td>F</td>\n",
       "      <td>0</td>\n",
       "    </tr>\n",
       "    <tr>\n",
       "      <th>1</th>\n",
       "      <td>76000</td>\n",
       "      <td>S</td>\n",
       "      <td>0</td>\n",
       "      <td>L</td>\n",
       "      <td>0</td>\n",
       "    </tr>\n",
       "    <tr>\n",
       "      <th>2</th>\n",
       "      <td>124950</td>\n",
       "      <td>S</td>\n",
       "      <td>0</td>\n",
       "      <td>F</td>\n",
       "      <td>0</td>\n",
       "    </tr>\n",
       "    <tr>\n",
       "      <th>3</th>\n",
       "      <td>73500</td>\n",
       "      <td>T</td>\n",
       "      <td>0</td>\n",
       "      <td>F</td>\n",
       "      <td>0</td>\n",
       "    </tr>\n",
       "    <tr>\n",
       "      <th>4</th>\n",
       "      <td>28500</td>\n",
       "      <td>F</td>\n",
       "      <td>1</td>\n",
       "      <td>L</td>\n",
       "      <td>0</td>\n",
       "    </tr>\n",
       "  </tbody>\n",
       "</table>\n",
       "</div>"
      ],
      "text/plain": [
       "    Price Property Type  Old/New Duration  PPDCategory Type\n",
       "0  114000             S        0        F                 0\n",
       "1   76000             S        0        L                 0\n",
       "2  124950             S        0        F                 0\n",
       "3   73500             T        0        F                 0\n",
       "4   28500             F        1        L                 0"
      ]
     },
     "execution_count": 64,
     "metadata": {},
     "output_type": "execute_result"
    }
   ],
   "source": [
    "# Converting \"PPDCategory Type\" to numerical\n",
    "df_s[\"PPDCategory Type\"] = df_s[\"PPDCategory Type\"].map(lambda x: 1 if x == \"B\" else 0)\n",
    "df_s.head()"
   ]
  },
  {
   "cell_type": "code",
   "execution_count": 65,
   "metadata": {
    "execution": {
     "iopub.execute_input": "2022-07-19T05:46:37.863224Z",
     "iopub.status.busy": "2022-07-19T05:46:37.862839Z",
     "iopub.status.idle": "2022-07-19T05:46:37.888910Z",
     "shell.execute_reply": "2022-07-19T05:46:37.887738Z",
     "shell.execute_reply.started": "2022-07-19T05:46:37.863190Z"
    }
   },
   "outputs": [
    {
     "data": {
      "text/html": [
       "<div>\n",
       "<style scoped>\n",
       "    .dataframe tbody tr th:only-of-type {\n",
       "        vertical-align: middle;\n",
       "    }\n",
       "\n",
       "    .dataframe tbody tr th {\n",
       "        vertical-align: top;\n",
       "    }\n",
       "\n",
       "    .dataframe thead th {\n",
       "        text-align: right;\n",
       "    }\n",
       "</style>\n",
       "<table border=\"1\" class=\"dataframe\">\n",
       "  <thead>\n",
       "    <tr style=\"text-align: right;\">\n",
       "      <th></th>\n",
       "      <th>F</th>\n",
       "      <th>O</th>\n",
       "      <th>S</th>\n",
       "      <th>T</th>\n",
       "    </tr>\n",
       "  </thead>\n",
       "  <tbody>\n",
       "    <tr>\n",
       "      <th>0</th>\n",
       "      <td>0</td>\n",
       "      <td>0</td>\n",
       "      <td>1</td>\n",
       "      <td>0</td>\n",
       "    </tr>\n",
       "    <tr>\n",
       "      <th>1</th>\n",
       "      <td>0</td>\n",
       "      <td>0</td>\n",
       "      <td>1</td>\n",
       "      <td>0</td>\n",
       "    </tr>\n",
       "    <tr>\n",
       "      <th>2</th>\n",
       "      <td>0</td>\n",
       "      <td>0</td>\n",
       "      <td>1</td>\n",
       "      <td>0</td>\n",
       "    </tr>\n",
       "    <tr>\n",
       "      <th>3</th>\n",
       "      <td>0</td>\n",
       "      <td>0</td>\n",
       "      <td>0</td>\n",
       "      <td>1</td>\n",
       "    </tr>\n",
       "    <tr>\n",
       "      <th>4</th>\n",
       "      <td>1</td>\n",
       "      <td>0</td>\n",
       "      <td>0</td>\n",
       "      <td>0</td>\n",
       "    </tr>\n",
       "  </tbody>\n",
       "</table>\n",
       "</div>"
      ],
      "text/plain": [
       "   F  O  S  T\n",
       "0  0  0  1  0\n",
       "1  0  0  1  0\n",
       "2  0  0  1  0\n",
       "3  0  0  0  1\n",
       "4  1  0  0  0"
      ]
     },
     "execution_count": 65,
     "metadata": {},
     "output_type": "execute_result"
    }
   ],
   "source": [
    "# Creating dummies for \"Property Type\"\n",
    "df_PT = pd.get_dummies(df_s[\"Property Type\"], drop_first = True)\n",
    "df_PT.head()"
   ]
  },
  {
   "cell_type": "code",
   "execution_count": 66,
   "metadata": {
    "execution": {
     "iopub.execute_input": "2022-07-19T05:46:37.890898Z",
     "iopub.status.busy": "2022-07-19T05:46:37.890450Z",
     "iopub.status.idle": "2022-07-19T05:46:37.912721Z",
     "shell.execute_reply": "2022-07-19T05:46:37.911879Z",
     "shell.execute_reply.started": "2022-07-19T05:46:37.890863Z"
    }
   },
   "outputs": [
    {
     "data": {
      "text/html": [
       "<div>\n",
       "<style scoped>\n",
       "    .dataframe tbody tr th:only-of-type {\n",
       "        vertical-align: middle;\n",
       "    }\n",
       "\n",
       "    .dataframe tbody tr th {\n",
       "        vertical-align: top;\n",
       "    }\n",
       "\n",
       "    .dataframe thead th {\n",
       "        text-align: right;\n",
       "    }\n",
       "</style>\n",
       "<table border=\"1\" class=\"dataframe\">\n",
       "  <thead>\n",
       "    <tr style=\"text-align: right;\">\n",
       "      <th></th>\n",
       "      <th>L</th>\n",
       "      <th>U</th>\n",
       "    </tr>\n",
       "  </thead>\n",
       "  <tbody>\n",
       "    <tr>\n",
       "      <th>0</th>\n",
       "      <td>0</td>\n",
       "      <td>0</td>\n",
       "    </tr>\n",
       "    <tr>\n",
       "      <th>1</th>\n",
       "      <td>1</td>\n",
       "      <td>0</td>\n",
       "    </tr>\n",
       "    <tr>\n",
       "      <th>2</th>\n",
       "      <td>0</td>\n",
       "      <td>0</td>\n",
       "    </tr>\n",
       "    <tr>\n",
       "      <th>3</th>\n",
       "      <td>0</td>\n",
       "      <td>0</td>\n",
       "    </tr>\n",
       "    <tr>\n",
       "      <th>4</th>\n",
       "      <td>1</td>\n",
       "      <td>0</td>\n",
       "    </tr>\n",
       "  </tbody>\n",
       "</table>\n",
       "</div>"
      ],
      "text/plain": [
       "   L  U\n",
       "0  0  0\n",
       "1  1  0\n",
       "2  0  0\n",
       "3  0  0\n",
       "4  1  0"
      ]
     },
     "execution_count": 66,
     "metadata": {},
     "output_type": "execute_result"
    }
   ],
   "source": [
    "# Creating dummies for \"Duration\"\n",
    "df_D = pd.get_dummies(df_s[\"Duration\"], drop_first = True)\n",
    "df_D.head()"
   ]
  },
  {
   "cell_type": "code",
   "execution_count": 67,
   "metadata": {
    "execution": {
     "iopub.execute_input": "2022-07-19T05:46:37.914252Z",
     "iopub.status.busy": "2022-07-19T05:46:37.913769Z",
     "iopub.status.idle": "2022-07-19T05:46:37.933906Z",
     "shell.execute_reply": "2022-07-19T05:46:37.932845Z",
     "shell.execute_reply.started": "2022-07-19T05:46:37.914216Z"
    }
   },
   "outputs": [
    {
     "data": {
      "text/html": [
       "<div>\n",
       "<style scoped>\n",
       "    .dataframe tbody tr th:only-of-type {\n",
       "        vertical-align: middle;\n",
       "    }\n",
       "\n",
       "    .dataframe tbody tr th {\n",
       "        vertical-align: top;\n",
       "    }\n",
       "\n",
       "    .dataframe thead th {\n",
       "        text-align: right;\n",
       "    }\n",
       "</style>\n",
       "<table border=\"1\" class=\"dataframe\">\n",
       "  <thead>\n",
       "    <tr style=\"text-align: right;\">\n",
       "      <th></th>\n",
       "      <th>Price</th>\n",
       "      <th>Property Type</th>\n",
       "      <th>Old/New</th>\n",
       "      <th>Duration</th>\n",
       "      <th>PPDCategory Type</th>\n",
       "      <th>F</th>\n",
       "      <th>O</th>\n",
       "      <th>S</th>\n",
       "      <th>T</th>\n",
       "    </tr>\n",
       "  </thead>\n",
       "  <tbody>\n",
       "    <tr>\n",
       "      <th>0</th>\n",
       "      <td>114000</td>\n",
       "      <td>S</td>\n",
       "      <td>0</td>\n",
       "      <td>F</td>\n",
       "      <td>0</td>\n",
       "      <td>0</td>\n",
       "      <td>0</td>\n",
       "      <td>1</td>\n",
       "      <td>0</td>\n",
       "    </tr>\n",
       "    <tr>\n",
       "      <th>1</th>\n",
       "      <td>76000</td>\n",
       "      <td>S</td>\n",
       "      <td>0</td>\n",
       "      <td>L</td>\n",
       "      <td>0</td>\n",
       "      <td>0</td>\n",
       "      <td>0</td>\n",
       "      <td>1</td>\n",
       "      <td>0</td>\n",
       "    </tr>\n",
       "    <tr>\n",
       "      <th>2</th>\n",
       "      <td>124950</td>\n",
       "      <td>S</td>\n",
       "      <td>0</td>\n",
       "      <td>F</td>\n",
       "      <td>0</td>\n",
       "      <td>0</td>\n",
       "      <td>0</td>\n",
       "      <td>1</td>\n",
       "      <td>0</td>\n",
       "    </tr>\n",
       "    <tr>\n",
       "      <th>3</th>\n",
       "      <td>73500</td>\n",
       "      <td>T</td>\n",
       "      <td>0</td>\n",
       "      <td>F</td>\n",
       "      <td>0</td>\n",
       "      <td>0</td>\n",
       "      <td>0</td>\n",
       "      <td>0</td>\n",
       "      <td>1</td>\n",
       "    </tr>\n",
       "    <tr>\n",
       "      <th>4</th>\n",
       "      <td>28500</td>\n",
       "      <td>F</td>\n",
       "      <td>1</td>\n",
       "      <td>L</td>\n",
       "      <td>0</td>\n",
       "      <td>1</td>\n",
       "      <td>0</td>\n",
       "      <td>0</td>\n",
       "      <td>0</td>\n",
       "    </tr>\n",
       "  </tbody>\n",
       "</table>\n",
       "</div>"
      ],
      "text/plain": [
       "    Price Property Type  Old/New Duration  PPDCategory Type  F  O  S  T\n",
       "0  114000             S        0        F                 0  0  0  1  0\n",
       "1   76000             S        0        L                 0  0  0  1  0\n",
       "2  124950             S        0        F                 0  0  0  1  0\n",
       "3   73500             T        0        F                 0  0  0  0  1\n",
       "4   28500             F        1        L                 0  1  0  0  0"
      ]
     },
     "execution_count": 67,
     "metadata": {},
     "output_type": "execute_result"
    }
   ],
   "source": [
    "# Joining df_s and df_PT\n",
    "df_s = pd.concat([df_s, df_PT], axis = 1, join = \"inner\")\n",
    "df_s.head()"
   ]
  },
  {
   "cell_type": "code",
   "execution_count": 68,
   "metadata": {
    "execution": {
     "iopub.execute_input": "2022-07-19T05:46:37.936096Z",
     "iopub.status.busy": "2022-07-19T05:46:37.935441Z",
     "iopub.status.idle": "2022-07-19T05:46:37.954280Z",
     "shell.execute_reply": "2022-07-19T05:46:37.952864Z",
     "shell.execute_reply.started": "2022-07-19T05:46:37.936049Z"
    }
   },
   "outputs": [
    {
     "data": {
      "text/html": [
       "<div>\n",
       "<style scoped>\n",
       "    .dataframe tbody tr th:only-of-type {\n",
       "        vertical-align: middle;\n",
       "    }\n",
       "\n",
       "    .dataframe tbody tr th {\n",
       "        vertical-align: top;\n",
       "    }\n",
       "\n",
       "    .dataframe thead th {\n",
       "        text-align: right;\n",
       "    }\n",
       "</style>\n",
       "<table border=\"1\" class=\"dataframe\">\n",
       "  <thead>\n",
       "    <tr style=\"text-align: right;\">\n",
       "      <th></th>\n",
       "      <th>Price</th>\n",
       "      <th>Property Type</th>\n",
       "      <th>Old/New</th>\n",
       "      <th>Duration</th>\n",
       "      <th>PPDCategory Type</th>\n",
       "      <th>F</th>\n",
       "      <th>O</th>\n",
       "      <th>S</th>\n",
       "      <th>T</th>\n",
       "      <th>L</th>\n",
       "      <th>U</th>\n",
       "    </tr>\n",
       "  </thead>\n",
       "  <tbody>\n",
       "    <tr>\n",
       "      <th>0</th>\n",
       "      <td>114000</td>\n",
       "      <td>S</td>\n",
       "      <td>0</td>\n",
       "      <td>F</td>\n",
       "      <td>0</td>\n",
       "      <td>0</td>\n",
       "      <td>0</td>\n",
       "      <td>1</td>\n",
       "      <td>0</td>\n",
       "      <td>0</td>\n",
       "      <td>0</td>\n",
       "    </tr>\n",
       "    <tr>\n",
       "      <th>1</th>\n",
       "      <td>76000</td>\n",
       "      <td>S</td>\n",
       "      <td>0</td>\n",
       "      <td>L</td>\n",
       "      <td>0</td>\n",
       "      <td>0</td>\n",
       "      <td>0</td>\n",
       "      <td>1</td>\n",
       "      <td>0</td>\n",
       "      <td>1</td>\n",
       "      <td>0</td>\n",
       "    </tr>\n",
       "    <tr>\n",
       "      <th>2</th>\n",
       "      <td>124950</td>\n",
       "      <td>S</td>\n",
       "      <td>0</td>\n",
       "      <td>F</td>\n",
       "      <td>0</td>\n",
       "      <td>0</td>\n",
       "      <td>0</td>\n",
       "      <td>1</td>\n",
       "      <td>0</td>\n",
       "      <td>0</td>\n",
       "      <td>0</td>\n",
       "    </tr>\n",
       "    <tr>\n",
       "      <th>3</th>\n",
       "      <td>73500</td>\n",
       "      <td>T</td>\n",
       "      <td>0</td>\n",
       "      <td>F</td>\n",
       "      <td>0</td>\n",
       "      <td>0</td>\n",
       "      <td>0</td>\n",
       "      <td>0</td>\n",
       "      <td>1</td>\n",
       "      <td>0</td>\n",
       "      <td>0</td>\n",
       "    </tr>\n",
       "    <tr>\n",
       "      <th>4</th>\n",
       "      <td>28500</td>\n",
       "      <td>F</td>\n",
       "      <td>1</td>\n",
       "      <td>L</td>\n",
       "      <td>0</td>\n",
       "      <td>1</td>\n",
       "      <td>0</td>\n",
       "      <td>0</td>\n",
       "      <td>0</td>\n",
       "      <td>1</td>\n",
       "      <td>0</td>\n",
       "    </tr>\n",
       "  </tbody>\n",
       "</table>\n",
       "</div>"
      ],
      "text/plain": [
       "    Price Property Type  Old/New Duration  PPDCategory Type  F  O  S  T  L  U\n",
       "0  114000             S        0        F                 0  0  0  1  0  0  0\n",
       "1   76000             S        0        L                 0  0  0  1  0  1  0\n",
       "2  124950             S        0        F                 0  0  0  1  0  0  0\n",
       "3   73500             T        0        F                 0  0  0  0  1  0  0\n",
       "4   28500             F        1        L                 0  1  0  0  0  1  0"
      ]
     },
     "execution_count": 68,
     "metadata": {},
     "output_type": "execute_result"
    }
   ],
   "source": [
    "# Joining df_s and df_D\n",
    "df_s = pd.concat([df_s, df_D], axis = 1, join = \"inner\")\n",
    "df_s.head()"
   ]
  },
  {
   "cell_type": "code",
   "execution_count": 69,
   "metadata": {
    "execution": {
     "iopub.execute_input": "2022-07-19T05:46:37.956512Z",
     "iopub.status.busy": "2022-07-19T05:46:37.955804Z",
     "iopub.status.idle": "2022-07-19T05:46:37.977390Z",
     "shell.execute_reply": "2022-07-19T05:46:37.976071Z",
     "shell.execute_reply.started": "2022-07-19T05:46:37.956465Z"
    }
   },
   "outputs": [
    {
     "data": {
      "text/html": [
       "<div>\n",
       "<style scoped>\n",
       "    .dataframe tbody tr th:only-of-type {\n",
       "        vertical-align: middle;\n",
       "    }\n",
       "\n",
       "    .dataframe tbody tr th {\n",
       "        vertical-align: top;\n",
       "    }\n",
       "\n",
       "    .dataframe thead th {\n",
       "        text-align: right;\n",
       "    }\n",
       "</style>\n",
       "<table border=\"1\" class=\"dataframe\">\n",
       "  <thead>\n",
       "    <tr style=\"text-align: right;\">\n",
       "      <th></th>\n",
       "      <th>Price</th>\n",
       "      <th>Old/New</th>\n",
       "      <th>PPDCategory Type</th>\n",
       "      <th>F</th>\n",
       "      <th>O</th>\n",
       "      <th>S</th>\n",
       "      <th>T</th>\n",
       "      <th>L</th>\n",
       "      <th>U</th>\n",
       "    </tr>\n",
       "  </thead>\n",
       "  <tbody>\n",
       "    <tr>\n",
       "      <th>0</th>\n",
       "      <td>114000</td>\n",
       "      <td>0</td>\n",
       "      <td>0</td>\n",
       "      <td>0</td>\n",
       "      <td>0</td>\n",
       "      <td>1</td>\n",
       "      <td>0</td>\n",
       "      <td>0</td>\n",
       "      <td>0</td>\n",
       "    </tr>\n",
       "    <tr>\n",
       "      <th>1</th>\n",
       "      <td>76000</td>\n",
       "      <td>0</td>\n",
       "      <td>0</td>\n",
       "      <td>0</td>\n",
       "      <td>0</td>\n",
       "      <td>1</td>\n",
       "      <td>0</td>\n",
       "      <td>1</td>\n",
       "      <td>0</td>\n",
       "    </tr>\n",
       "    <tr>\n",
       "      <th>2</th>\n",
       "      <td>124950</td>\n",
       "      <td>0</td>\n",
       "      <td>0</td>\n",
       "      <td>0</td>\n",
       "      <td>0</td>\n",
       "      <td>1</td>\n",
       "      <td>0</td>\n",
       "      <td>0</td>\n",
       "      <td>0</td>\n",
       "    </tr>\n",
       "    <tr>\n",
       "      <th>3</th>\n",
       "      <td>73500</td>\n",
       "      <td>0</td>\n",
       "      <td>0</td>\n",
       "      <td>0</td>\n",
       "      <td>0</td>\n",
       "      <td>0</td>\n",
       "      <td>1</td>\n",
       "      <td>0</td>\n",
       "      <td>0</td>\n",
       "    </tr>\n",
       "    <tr>\n",
       "      <th>4</th>\n",
       "      <td>28500</td>\n",
       "      <td>1</td>\n",
       "      <td>0</td>\n",
       "      <td>1</td>\n",
       "      <td>0</td>\n",
       "      <td>0</td>\n",
       "      <td>0</td>\n",
       "      <td>1</td>\n",
       "      <td>0</td>\n",
       "    </tr>\n",
       "  </tbody>\n",
       "</table>\n",
       "</div>"
      ],
      "text/plain": [
       "    Price  Old/New  PPDCategory Type  F  O  S  T  L  U\n",
       "0  114000        0                 0  0  0  1  0  0  0\n",
       "1   76000        0                 0  0  0  1  0  1  0\n",
       "2  124950        0                 0  0  0  1  0  0  0\n",
       "3   73500        0                 0  0  0  0  1  0  0\n",
       "4   28500        1                 0  1  0  0  0  1  0"
      ]
     },
     "execution_count": 69,
     "metadata": {},
     "output_type": "execute_result"
    }
   ],
   "source": [
    "# Dropping the columns which are not needed\n",
    "df_s.drop([\"Property Type\", \"Duration\"], axis = 1, inplace = True)\n",
    "df_s.head()"
   ]
  },
  {
   "cell_type": "code",
   "execution_count": 70,
   "metadata": {
    "execution": {
     "iopub.execute_input": "2022-07-19T05:46:37.979970Z",
     "iopub.status.busy": "2022-07-19T05:46:37.979208Z",
     "iopub.status.idle": "2022-07-19T05:46:37.999841Z",
     "shell.execute_reply": "2022-07-19T05:46:37.998424Z",
     "shell.execute_reply.started": "2022-07-19T05:46:37.979918Z"
    }
   },
   "outputs": [
    {
     "data": {
      "text/html": [
       "<div>\n",
       "<style scoped>\n",
       "    .dataframe tbody tr th:only-of-type {\n",
       "        vertical-align: middle;\n",
       "    }\n",
       "\n",
       "    .dataframe tbody tr th {\n",
       "        vertical-align: top;\n",
       "    }\n",
       "\n",
       "    .dataframe thead th {\n",
       "        text-align: right;\n",
       "    }\n",
       "</style>\n",
       "<table border=\"1\" class=\"dataframe\">\n",
       "  <thead>\n",
       "    <tr style=\"text-align: right;\">\n",
       "      <th></th>\n",
       "      <th>Price</th>\n",
       "      <th>Old/New</th>\n",
       "      <th>PPDCategory Type</th>\n",
       "      <th>F</th>\n",
       "      <th>O</th>\n",
       "      <th>S</th>\n",
       "      <th>T</th>\n",
       "      <th>L</th>\n",
       "      <th>U</th>\n",
       "    </tr>\n",
       "  </thead>\n",
       "  <tbody>\n",
       "    <tr>\n",
       "      <th>0</th>\n",
       "      <td>11.643954</td>\n",
       "      <td>0</td>\n",
       "      <td>0</td>\n",
       "      <td>0</td>\n",
       "      <td>0</td>\n",
       "      <td>1</td>\n",
       "      <td>0</td>\n",
       "      <td>0</td>\n",
       "      <td>0</td>\n",
       "    </tr>\n",
       "    <tr>\n",
       "      <th>1</th>\n",
       "      <td>11.238489</td>\n",
       "      <td>0</td>\n",
       "      <td>0</td>\n",
       "      <td>0</td>\n",
       "      <td>0</td>\n",
       "      <td>1</td>\n",
       "      <td>0</td>\n",
       "      <td>1</td>\n",
       "      <td>0</td>\n",
       "    </tr>\n",
       "    <tr>\n",
       "      <th>2</th>\n",
       "      <td>11.735669</td>\n",
       "      <td>0</td>\n",
       "      <td>0</td>\n",
       "      <td>0</td>\n",
       "      <td>0</td>\n",
       "      <td>1</td>\n",
       "      <td>0</td>\n",
       "      <td>0</td>\n",
       "      <td>0</td>\n",
       "    </tr>\n",
       "    <tr>\n",
       "      <th>3</th>\n",
       "      <td>11.205041</td>\n",
       "      <td>0</td>\n",
       "      <td>0</td>\n",
       "      <td>0</td>\n",
       "      <td>0</td>\n",
       "      <td>0</td>\n",
       "      <td>1</td>\n",
       "      <td>0</td>\n",
       "      <td>0</td>\n",
       "    </tr>\n",
       "    <tr>\n",
       "      <th>4</th>\n",
       "      <td>10.257659</td>\n",
       "      <td>1</td>\n",
       "      <td>0</td>\n",
       "      <td>1</td>\n",
       "      <td>0</td>\n",
       "      <td>0</td>\n",
       "      <td>0</td>\n",
       "      <td>1</td>\n",
       "      <td>0</td>\n",
       "    </tr>\n",
       "  </tbody>\n",
       "</table>\n",
       "</div>"
      ],
      "text/plain": [
       "       Price  Old/New  PPDCategory Type  F  O  S  T  L  U\n",
       "0  11.643954        0                 0  0  0  1  0  0  0\n",
       "1  11.238489        0                 0  0  0  1  0  1  0\n",
       "2  11.735669        0                 0  0  0  1  0  0  0\n",
       "3  11.205041        0                 0  0  0  0  1  0  0\n",
       "4  10.257659        1                 0  1  0  0  0  1  0"
      ]
     },
     "execution_count": 70,
     "metadata": {},
     "output_type": "execute_result"
    }
   ],
   "source": [
    "# Regularizing Price column by applying log function\n",
    "df_s[\"Price\"] = np.log(df_s[\"Price\"])\n",
    "df_s.head()"
   ]
  },
  {
   "cell_type": "code",
   "execution_count": 71,
   "metadata": {
    "execution": {
     "iopub.execute_input": "2022-07-19T05:46:38.002100Z",
     "iopub.status.busy": "2022-07-19T05:46:38.001592Z",
     "iopub.status.idle": "2022-07-19T05:46:38.755112Z",
     "shell.execute_reply": "2022-07-19T05:46:38.754068Z",
     "shell.execute_reply.started": "2022-07-19T05:46:38.002056Z"
    }
   },
   "outputs": [
    {
     "name": "stderr",
     "output_type": "stream",
     "text": [
      "C:\\Users\\pranj\\anaconda3\\lib\\site-packages\\seaborn\\distributions.py:2619: FutureWarning: `distplot` is a deprecated function and will be removed in a future version. Please adapt your code to use either `displot` (a figure-level function with similar flexibility) or `histplot` (an axes-level function for histograms).\n",
      "  warnings.warn(msg, FutureWarning)\n"
     ]
    },
    {
     "data": {
      "image/png": "[encoded data removed]",
      "text/plain": [
       "<Figure size 432x288 with 1 Axes>"
      ]
     },
     "metadata": {
      "needs_background": "light"
     },
     "output_type": "display_data"
    }
   ],
   "source": [
    "sns.distplot(df_s[\"Price\"]);"
   ]
  },
  {
   "cell_type": "code",
   "execution_count": 72,
   "metadata": {
    "execution": {
     "iopub.execute_input": "2022-07-19T05:46:38.756733Z",
     "iopub.status.busy": "2022-07-19T05:46:38.756413Z",
     "iopub.status.idle": "2022-07-19T05:46:38.763004Z",
     "shell.execute_reply": "2022-07-19T05:46:38.761802Z",
     "shell.execute_reply.started": "2022-07-19T05:46:38.756706Z"
    }
   },
   "outputs": [],
   "source": [
    "# Splitting data into X and y\n",
    "y = df_s.pop(\"Price\")\n",
    "X = df_s"
   ]
  },
  {
   "cell_type": "code",
   "execution_count": 73,
   "metadata": {
    "execution": {
     "iopub.execute_input": "2022-07-19T05:46:38.765522Z",
     "iopub.status.busy": "2022-07-19T05:46:38.764767Z",
     "iopub.status.idle": "2022-07-19T05:46:38.795853Z",
     "shell.execute_reply": "2022-07-19T05:46:38.795048Z",
     "shell.execute_reply.started": "2022-07-19T05:46:38.765475Z"
    }
   },
   "outputs": [
    {
     "data": {
      "text/plain": [
       "((80000, 8), (20000, 8), (80000,), (20000,))"
      ]
     },
     "execution_count": 73,
     "metadata": {},
     "output_type": "execute_result"
    }
   ],
   "source": [
    "# Splitting the data into train and test\n",
    "from sklearn.model_selection import train_test_split\n",
    "\n",
    "X_train, X_test, y_train, y_test = train_test_split(X, y, test_size = 0.2,\n",
    "                                                    random_state = 108)\n",
    "X_train.shape, X_test.shape, y_train.shape, y_test.shape"
   ]
  },
  {
   "cell_type": "code",
   "execution_count": 74,
   "metadata": {
    "execution": {
     "iopub.execute_input": "2022-07-19T05:46:38.797911Z",
     "iopub.status.busy": "2022-07-19T05:46:38.797310Z",
     "iopub.status.idle": "2022-07-19T05:46:38.803049Z",
     "shell.execute_reply": "2022-07-19T05:46:38.801968Z",
     "shell.execute_reply.started": "2022-07-19T05:46:38.797879Z"
    }
   },
   "outputs": [],
   "source": [
    "# Applying linear regression\n",
    "from sklearn.linear_model import LinearRegression\n",
    "\n",
    "# Creating an instance for the model\n",
    "lr_model = LinearRegression(n_jobs = -1)"
   ]
  },
  {
   "cell_type": "code",
   "execution_count": 75,
   "metadata": {
    "execution": {
     "iopub.execute_input": "2022-07-19T05:46:38.806035Z",
     "iopub.status.busy": "2022-07-19T05:46:38.805111Z",
     "iopub.status.idle": "2022-07-19T05:46:38.843577Z",
     "shell.execute_reply": "2022-07-19T05:46:38.842365Z",
     "shell.execute_reply.started": "2022-07-19T05:46:38.805971Z"
    }
   },
   "outputs": [
    {
     "data": {
      "text/plain": [
       "0.11773663365403664"
      ]
     },
     "execution_count": 75,
     "metadata": {},
     "output_type": "execute_result"
    }
   ],
   "source": [
    "# Fitting and scoring the model on train data set\n",
    "\n",
    "lr_model.fit(X_train, y_train)\n",
    "\n",
    "lr_model.score(X_train, y_train)"
   ]
  },
  {
   "cell_type": "code",
   "execution_count": 76,
   "metadata": {
    "execution": {
     "iopub.execute_input": "2022-07-19T05:46:38.846572Z",
     "iopub.status.busy": "2022-07-19T05:46:38.845725Z",
     "iopub.status.idle": "2022-07-19T05:46:38.871944Z",
     "shell.execute_reply": "2022-07-19T05:46:38.870703Z",
     "shell.execute_reply.started": "2022-07-19T05:46:38.846526Z"
    }
   },
   "outputs": [
    {
     "data": {
      "text/plain": [
       "315563.39595618553"
      ]
     },
     "execution_count": 76,
     "metadata": {},
     "output_type": "execute_result"
    }
   ],
   "source": [
    "# Checking the error on training data set\n",
    "y_true = np.exp(y_train)\n",
    "y_pred = np.exp(lr_model.predict(X_train))\n",
    "\n",
    "from sklearn.metrics import mean_squared_error\n",
    "mean_squared_error(y_true, y_pred, squared = False)"
   ]
  },
  {
   "cell_type": "code",
   "execution_count": 77,
   "metadata": {
    "execution": {
     "iopub.execute_input": "2022-07-19T05:46:38.874933Z",
     "iopub.status.busy": "2022-07-19T05:46:38.874094Z",
     "iopub.status.idle": "2022-07-19T05:46:38.894748Z",
     "shell.execute_reply": "2022-07-19T05:46:38.892671Z",
     "shell.execute_reply.started": "2022-07-19T05:46:38.874886Z"
    }
   },
   "outputs": [],
   "source": [
    "# Creating variables to store results\n",
    "train_score = lr_model.score(X_train, y_train)\n",
    "train_rmse = mean_squared_error(y_true, y_pred, squared = False)"
   ]
  },
  {
   "cell_type": "code",
   "execution_count": 78,
   "metadata": {
    "execution": {
     "iopub.execute_input": "2022-07-19T05:46:38.898065Z",
     "iopub.status.busy": "2022-07-19T05:46:38.897125Z",
     "iopub.status.idle": "2022-07-19T05:46:38.914952Z",
     "shell.execute_reply": "2022-07-19T05:46:38.913721Z",
     "shell.execute_reply.started": "2022-07-19T05:46:38.897982Z"
    }
   },
   "outputs": [
    {
     "data": {
      "text/html": [
       "<div>\n",
       "<style scoped>\n",
       "    .dataframe tbody tr th:only-of-type {\n",
       "        vertical-align: middle;\n",
       "    }\n",
       "\n",
       "    .dataframe tbody tr th {\n",
       "        vertical-align: top;\n",
       "    }\n",
       "\n",
       "    .dataframe thead th {\n",
       "        text-align: right;\n",
       "    }\n",
       "</style>\n",
       "<table border=\"1\" class=\"dataframe\">\n",
       "  <thead>\n",
       "    <tr style=\"text-align: right;\">\n",
       "      <th></th>\n",
       "      <th>R-Squared</th>\n",
       "      <th>Train_RMSE</th>\n",
       "    </tr>\n",
       "  </thead>\n",
       "  <tbody>\n",
       "    <tr>\n",
       "      <th>0</th>\n",
       "      <td>0.117737</td>\n",
       "      <td>315563.395956</td>\n",
       "    </tr>\n",
       "  </tbody>\n",
       "</table>\n",
       "</div>"
      ],
      "text/plain": [
       "   R-Squared     Train_RMSE\n",
       "0   0.117737  315563.395956"
      ]
     },
     "execution_count": 78,
     "metadata": {},
     "output_type": "execute_result"
    }
   ],
   "source": [
    "results_train = pd.DataFrame({\"R-Squared\": [train_score],\n",
    "                              \"Train_RMSE\": [train_rmse]})\n",
    "results_train"
   ]
  },
  {
   "cell_type": "code",
   "execution_count": 79,
   "metadata": {
    "execution": {
     "iopub.execute_input": "2022-07-19T05:46:38.918300Z",
     "iopub.status.busy": "2022-07-19T05:46:38.917189Z",
     "iopub.status.idle": "2022-07-19T05:46:39.335504Z",
     "shell.execute_reply": "2022-07-19T05:46:39.334544Z",
     "shell.execute_reply.started": "2022-07-19T05:46:38.918204Z"
    }
   },
   "outputs": [
    {
     "data": {
      "text/plain": [
       "Text(0, 0.5, 'Residuals')"
      ]
     },
     "execution_count": 79,
     "metadata": {},
     "output_type": "execute_result"
    },
    {
     "data": {
      "image/png": "[encoded data removed]",
      "text/plain": [
       "<Figure size 1080x576 with 1 Axes>"
      ]
     },
     "metadata": {
      "needs_background": "light"
     },
     "output_type": "display_data"
    }
   ],
   "source": [
    "# Creating residual plot\n",
    "residuals = y_true - y_pred\n",
    "\n",
    "# Creating plot\n",
    "plt.figure(figsize=(15,8))\n",
    "ax = sns.residplot(x = residuals, y = y_pred)\n",
    "ax.set_xlabel(\"Predicted Price\", fontsize = 12)\n",
    "ax.set_ylabel(\"Residuals\", fontsize = 12)"
   ]
  },
  {
   "cell_type": "code",
   "execution_count": 80,
   "metadata": {
    "execution": {
     "iopub.execute_input": "2022-07-19T05:46:39.338241Z",
     "iopub.status.busy": "2022-07-19T05:46:39.337379Z",
     "iopub.status.idle": "2022-07-19T05:46:39.350896Z",
     "shell.execute_reply": "2022-07-19T05:46:39.350030Z",
     "shell.execute_reply.started": "2022-07-19T05:46:39.338191Z"
    }
   },
   "outputs": [],
   "source": [
    "# Code for Hopkins Statistics\n",
    "from sklearn.neighbors import NearestNeighbors\n",
    "from random import sample\n",
    "from numpy.random import uniform\n",
    "from math import isnan\n",
    " \n",
    "def hopkins(X):\n",
    "    d = X.shape[1]\n",
    "    #d = len(vars) # columns\n",
    "    n = len(X) # rows\n",
    "    m = int(0.1 * n) \n",
    "    nbrs = NearestNeighbors(n_neighbors=1).fit(X.values)\n",
    " \n",
    "    rand_X = sample(range(0, n, 1), m)\n",
    " \n",
    "    ujd = []\n",
    "    wjd = []\n",
    "    for j in range(0, m):\n",
    "        u_dist, _ = nbrs.kneighbors(uniform(np.amin(X,axis=0),np.amax(X,axis=0),d).reshape(1, -1), 2, return_distance=True)\n",
    "        ujd.append(u_dist[0][1])\n",
    "        w_dist, _ = nbrs.kneighbors(X.iloc[rand_X[j]].values.reshape(1, -1), 2, return_distance=True)\n",
    "        wjd.append(w_dist[0][1])\n",
    " \n",
    "    H = sum(ujd) / (sum(ujd) + sum(wjd))\n",
    "    if isnan(H):\n",
    "        print(ujd, wjd)\n",
    "        H = 0\n",
    " \n",
    "    return H"
   ]
  },
  {
   "cell_type": "code",
   "execution_count": 81,
   "metadata": {
    "execution": {
     "iopub.execute_input": "2022-07-19T05:46:39.353537Z",
     "iopub.status.busy": "2022-07-19T05:46:39.352682Z",
     "iopub.status.idle": "2022-07-19T05:46:41.107895Z",
     "shell.execute_reply": "2022-07-19T05:46:41.106536Z",
     "shell.execute_reply.started": "2022-07-19T05:46:39.353491Z"
    }
   },
   "outputs": [
    {
     "data": {
      "text/html": [
       "<div>\n",
       "<style scoped>\n",
       "    .dataframe tbody tr th:only-of-type {\n",
       "        vertical-align: middle;\n",
       "    }\n",
       "\n",
       "    .dataframe tbody tr th {\n",
       "        vertical-align: top;\n",
       "    }\n",
       "\n",
       "    .dataframe thead th {\n",
       "        text-align: right;\n",
       "    }\n",
       "</style>\n",
       "<table border=\"1\" class=\"dataframe\">\n",
       "  <thead>\n",
       "    <tr style=\"text-align: right;\">\n",
       "      <th></th>\n",
       "      <th>Price</th>\n",
       "      <th>Old/New</th>\n",
       "      <th>PPDCategory Type</th>\n",
       "      <th>L</th>\n",
       "      <th>U</th>\n",
       "    </tr>\n",
       "  </thead>\n",
       "  <tbody>\n",
       "    <tr>\n",
       "      <th>0</th>\n",
       "      <td>11.643954</td>\n",
       "      <td>0</td>\n",
       "      <td>0</td>\n",
       "      <td>0</td>\n",
       "      <td>0</td>\n",
       "    </tr>\n",
       "    <tr>\n",
       "      <th>1</th>\n",
       "      <td>11.238489</td>\n",
       "      <td>0</td>\n",
       "      <td>0</td>\n",
       "      <td>1</td>\n",
       "      <td>0</td>\n",
       "    </tr>\n",
       "    <tr>\n",
       "      <th>2</th>\n",
       "      <td>11.735669</td>\n",
       "      <td>0</td>\n",
       "      <td>0</td>\n",
       "      <td>0</td>\n",
       "      <td>0</td>\n",
       "    </tr>\n",
       "    <tr>\n",
       "      <th>3</th>\n",
       "      <td>11.205041</td>\n",
       "      <td>0</td>\n",
       "      <td>0</td>\n",
       "      <td>0</td>\n",
       "      <td>0</td>\n",
       "    </tr>\n",
       "    <tr>\n",
       "      <th>4</th>\n",
       "      <td>10.257659</td>\n",
       "      <td>1</td>\n",
       "      <td>0</td>\n",
       "      <td>1</td>\n",
       "      <td>0</td>\n",
       "    </tr>\n",
       "  </tbody>\n",
       "</table>\n",
       "</div>"
      ],
      "text/plain": [
       "       Price  Old/New  PPDCategory Type  L  U\n",
       "0  11.643954        0                 0  0  0\n",
       "1  11.238489        0                 0  1  0\n",
       "2  11.735669        0                 0  0  0\n",
       "3  11.205041        0                 0  0  0\n",
       "4  10.257659        1                 0  1  0"
      ]
     },
     "execution_count": 81,
     "metadata": {},
     "output_type": "execute_result"
    }
   ],
   "source": [
    "# Randomly selecting 100 thousand rows as data is too big\n",
    "df_s = df.sample(n = 100000, random_state = 108)\n",
    "\n",
    "# Dropping the columns which are not needed\n",
    "df_s.drop([\"Transaction unique identifier\", \"Date of Transfer\", \"Town/City\", \"District\", \"County\", \"Record Status - monthly file only\"],\n",
    "          axis = 1,\n",
    "          inplace = True)\n",
    "\n",
    "# Resetting the index\n",
    "df_s = df_s.reset_index()\n",
    "df_s.pop(\"index\")\n",
    "\n",
    "# Converting \"PPDCategory Type\" to numerical\n",
    "df_s[\"PPDCategory Type\"] = df_s[\"PPDCategory Type\"].map(lambda x: 1 if x == \"B\" else 0)\n",
    "\n",
    "# Converting \"Old/New\" to numerical\n",
    "df_s[\"Old/New\"] = df_s[\"Old/New\"].map(lambda x: 1 if x == \"Y\" else 0)\n",
    "\n",
    "# Creating dummies for \"Duration\"\n",
    "df_D = pd.get_dummies(df_s[\"Duration\"], drop_first = True)\n",
    "\n",
    "# Joining df_s and df_D\n",
    "df_s = pd.concat([df_s, df_D], axis = 1, join = \"inner\")\n",
    "\n",
    "# Dropping the columns which are not needed\n",
    "df_s.drop([\"Property Type\", \"Duration\"], axis = 1, inplace = True)\n",
    "\n",
    "# Regularizing Price column by applying log function\n",
    "df_s[\"Price\"] = np.log(df_s[\"Price\"])\n",
    "df_s.head()"
   ]
  },
  {
   "cell_type": "code",
   "execution_count": 82,
   "metadata": {
    "execution": {
     "iopub.execute_input": "2022-07-19T05:46:41.110428Z",
     "iopub.status.busy": "2022-07-19T05:46:41.109947Z",
     "iopub.status.idle": "2022-07-19T05:50:30.031617Z",
     "shell.execute_reply": "2022-07-19T05:50:30.030318Z",
     "shell.execute_reply.started": "2022-07-19T05:46:41.110384Z"
    }
   },
   "outputs": [
    {
     "data": {
      "text/plain": [
       "0.9997132446940814"
      ]
     },
     "execution_count": 82,
     "metadata": {},
     "output_type": "execute_result"
    }
   ],
   "source": [
    "hopkins_stat = []\n",
    "for i in range(0,5):\n",
    "    h = hopkins(df_s)\n",
    "    hopkins_stat.append(h)\n",
    "\n",
    "np.mean(hopkins_stat)"
   ]
  },
  {
   "cell_type": "code",
   "execution_count": 83,
   "metadata": {
    "execution": {
     "iopub.execute_input": "2022-07-19T05:50:30.033633Z",
     "iopub.status.busy": "2022-07-19T05:50:30.033190Z",
     "iopub.status.idle": "2022-07-19T05:50:45.138706Z",
     "shell.execute_reply": "2022-07-19T05:50:45.137802Z",
     "shell.execute_reply.started": "2022-07-19T05:50:30.033600Z"
    }
   },
   "outputs": [
    {
     "data": {
      "image/png": "[encoded data removed]",
      "text/plain": [
       "<Figure size 720x504 with 1 Axes>"
      ]
     },
     "metadata": {
      "needs_background": "light"
     },
     "output_type": "display_data"
    }
   ],
   "source": [
    "# Applying K-Means\n",
    "from sklearn.cluster import KMeans\n",
    "\n",
    "# Elbow Curve\n",
    "ssd = []\n",
    "n_clusters = [2,3,4,5,6,7,8]\n",
    "\n",
    "for i in n_clusters:\n",
    "    kmeans = KMeans(n_clusters = i)\n",
    "    kmeans.fit(df_s)\n",
    "    \n",
    "    ssd.append(kmeans.inertia_)\n",
    "    \n",
    "# Plotting elbow plot\n",
    "plt.figure(figsize=(10,7))\n",
    "plt.plot(n_clusters, ssd)\n",
    "plt.xlabel(\"Clusters\")\n",
    "plt.ylabel(\"SSD\");"
   ]
  },
  {
   "cell_type": "code",
   "execution_count": null,
   "metadata": {},
   "outputs": [],
   "source": []
  }
 ],
 "metadata": {
  "kernelspec": {
   "display_name": "Python 3 (ipykernel)",
   "language": "python",
   "name": "python3"
  },
  "language_info": {
   "codemirror_mode": {
    "name": "ipython",
    "version": 3
   },
   "file_extension": ".py",
   "mimetype": "text/x-python",
   "name": "python",
   "nbconvert_exporter": "python",
   "pygments_lexer": "ipython3",
   "version": "3.9.7"
  }
 },
 "nbformat": 4,
 "nbformat_minor": 4
}
